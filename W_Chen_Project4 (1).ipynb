{
 "cells": [
  {
   "cell_type": "markdown",
   "metadata": {},
   "source": [
    "## Predictive Analysis using scikit-learn"
   ]
  },
  {
   "cell_type": "code",
   "execution_count": 1,
   "metadata": {},
   "outputs": [],
   "source": [
    "# import modules\n",
    "import pandas as pd\n",
    "import numpy as np\n",
    "import pandas as pd\n",
    "import statsmodels.api as sm\n",
    "import matplotlib.pyplot as plt\n",
    "from patsy import dmatrices\n",
    "from sklearn.linear_model import LogisticRegression\n",
    "from sklearn.model_selection import train_test_split\n",
    "from sklearn.model_selection import cross_val_score\n",
    "from sklearn import metrics\n",
    "\n",
    "# load the data set\n",
    "mr_df = pd.read_csv(\"https://archive.ics.uci.edu/ml/machine-learning-databases/mushroom/agaricus-lepiota.data\", header = None)"
   ]
  },
  {
   "cell_type": "markdown",
   "metadata": {},
   "source": [
    "#### 1. Create a dataframe with a subset of the columns that includes the 'edible/poisonous', 'odor', 'cap-color', 'gill-color', 'gill-spacing', and 'gill-size' columns."
   ]
  },
  {
   "cell_type": "code",
   "execution_count": 2,
   "metadata": {},
   "outputs": [],
   "source": [
    "# create a subset of 6 columns, including 'edible' / 'poisonous'\n",
    "# use the 'copy()' function if you want to preserve the original data frame\n",
    "mr_sub = mr_df.iloc[:, [0, 5, 3, 9, 7, 8]].copy()"
   ]
  },
  {
   "cell_type": "code",
   "execution_count": 3,
   "metadata": {},
   "outputs": [
    {
     "data": {
      "text/html": [
       "<div>\n",
       "<style scoped>\n",
       "    .dataframe tbody tr th:only-of-type {\n",
       "        vertical-align: middle;\n",
       "    }\n",
       "\n",
       "    .dataframe tbody tr th {\n",
       "        vertical-align: top;\n",
       "    }\n",
       "\n",
       "    .dataframe thead th {\n",
       "        text-align: right;\n",
       "    }\n",
       "</style>\n",
       "<table border=\"1\" class=\"dataframe\">\n",
       "  <thead>\n",
       "    <tr style=\"text-align: right;\">\n",
       "      <th></th>\n",
       "      <th>0</th>\n",
       "      <th>5</th>\n",
       "      <th>3</th>\n",
       "      <th>9</th>\n",
       "      <th>7</th>\n",
       "      <th>8</th>\n",
       "    </tr>\n",
       "  </thead>\n",
       "  <tbody>\n",
       "    <tr>\n",
       "      <th>0</th>\n",
       "      <td>p</td>\n",
       "      <td>p</td>\n",
       "      <td>n</td>\n",
       "      <td>k</td>\n",
       "      <td>c</td>\n",
       "      <td>n</td>\n",
       "    </tr>\n",
       "    <tr>\n",
       "      <th>1</th>\n",
       "      <td>e</td>\n",
       "      <td>a</td>\n",
       "      <td>y</td>\n",
       "      <td>k</td>\n",
       "      <td>c</td>\n",
       "      <td>b</td>\n",
       "    </tr>\n",
       "    <tr>\n",
       "      <th>2</th>\n",
       "      <td>e</td>\n",
       "      <td>l</td>\n",
       "      <td>w</td>\n",
       "      <td>n</td>\n",
       "      <td>c</td>\n",
       "      <td>b</td>\n",
       "    </tr>\n",
       "    <tr>\n",
       "      <th>3</th>\n",
       "      <td>p</td>\n",
       "      <td>p</td>\n",
       "      <td>w</td>\n",
       "      <td>n</td>\n",
       "      <td>c</td>\n",
       "      <td>n</td>\n",
       "    </tr>\n",
       "    <tr>\n",
       "      <th>4</th>\n",
       "      <td>e</td>\n",
       "      <td>n</td>\n",
       "      <td>g</td>\n",
       "      <td>k</td>\n",
       "      <td>w</td>\n",
       "      <td>b</td>\n",
       "    </tr>\n",
       "    <tr>\n",
       "      <th>5</th>\n",
       "      <td>e</td>\n",
       "      <td>a</td>\n",
       "      <td>y</td>\n",
       "      <td>n</td>\n",
       "      <td>c</td>\n",
       "      <td>b</td>\n",
       "    </tr>\n",
       "    <tr>\n",
       "      <th>6</th>\n",
       "      <td>e</td>\n",
       "      <td>a</td>\n",
       "      <td>w</td>\n",
       "      <td>g</td>\n",
       "      <td>c</td>\n",
       "      <td>b</td>\n",
       "    </tr>\n",
       "    <tr>\n",
       "      <th>7</th>\n",
       "      <td>e</td>\n",
       "      <td>l</td>\n",
       "      <td>w</td>\n",
       "      <td>n</td>\n",
       "      <td>c</td>\n",
       "      <td>b</td>\n",
       "    </tr>\n",
       "    <tr>\n",
       "      <th>8</th>\n",
       "      <td>p</td>\n",
       "      <td>p</td>\n",
       "      <td>w</td>\n",
       "      <td>p</td>\n",
       "      <td>c</td>\n",
       "      <td>n</td>\n",
       "    </tr>\n",
       "    <tr>\n",
       "      <th>9</th>\n",
       "      <td>e</td>\n",
       "      <td>a</td>\n",
       "      <td>y</td>\n",
       "      <td>g</td>\n",
       "      <td>c</td>\n",
       "      <td>b</td>\n",
       "    </tr>\n",
       "  </tbody>\n",
       "</table>\n",
       "</div>"
      ],
      "text/plain": [
       "   0  5  3  9  7  8\n",
       "0  p  p  n  k  c  n\n",
       "1  e  a  y  k  c  b\n",
       "2  e  l  w  n  c  b\n",
       "3  p  p  w  n  c  n\n",
       "4  e  n  g  k  w  b\n",
       "5  e  a  y  n  c  b\n",
       "6  e  a  w  g  c  b\n",
       "7  e  l  w  n  c  b\n",
       "8  p  p  w  p  c  n\n",
       "9  e  a  y  g  c  b"
      ]
     },
     "execution_count": 3,
     "metadata": {},
     "output_type": "execute_result"
    }
   ],
   "source": [
    "# check results: Check the first 10 rows\n",
    "mr_sub.head(10)"
   ]
  },
  {
   "cell_type": "markdown",
   "metadata": {},
   "source": [
    "#### 2. Add meaningful column names"
   ]
  },
  {
   "cell_type": "code",
   "execution_count": 4,
   "metadata": {},
   "outputs": [
    {
     "data": {
      "text/html": [
       "<div>\n",
       "<style scoped>\n",
       "    .dataframe tbody tr th:only-of-type {\n",
       "        vertical-align: middle;\n",
       "    }\n",
       "\n",
       "    .dataframe tbody tr th {\n",
       "        vertical-align: top;\n",
       "    }\n",
       "\n",
       "    .dataframe thead th {\n",
       "        text-align: right;\n",
       "    }\n",
       "</style>\n",
       "<table border=\"1\" class=\"dataframe\">\n",
       "  <thead>\n",
       "    <tr style=\"text-align: right;\">\n",
       "      <th></th>\n",
       "      <th>Poisonous</th>\n",
       "      <th>Odor</th>\n",
       "      <th>Cap_Color</th>\n",
       "      <th>Gill_Color</th>\n",
       "      <th>Gill_Spacing</th>\n",
       "      <th>Gill_Size</th>\n",
       "    </tr>\n",
       "  </thead>\n",
       "  <tbody>\n",
       "    <tr>\n",
       "      <th>0</th>\n",
       "      <td>p</td>\n",
       "      <td>p</td>\n",
       "      <td>n</td>\n",
       "      <td>k</td>\n",
       "      <td>c</td>\n",
       "      <td>n</td>\n",
       "    </tr>\n",
       "    <tr>\n",
       "      <th>1</th>\n",
       "      <td>e</td>\n",
       "      <td>a</td>\n",
       "      <td>y</td>\n",
       "      <td>k</td>\n",
       "      <td>c</td>\n",
       "      <td>b</td>\n",
       "    </tr>\n",
       "    <tr>\n",
       "      <th>2</th>\n",
       "      <td>e</td>\n",
       "      <td>l</td>\n",
       "      <td>w</td>\n",
       "      <td>n</td>\n",
       "      <td>c</td>\n",
       "      <td>b</td>\n",
       "    </tr>\n",
       "    <tr>\n",
       "      <th>3</th>\n",
       "      <td>p</td>\n",
       "      <td>p</td>\n",
       "      <td>w</td>\n",
       "      <td>n</td>\n",
       "      <td>c</td>\n",
       "      <td>n</td>\n",
       "    </tr>\n",
       "    <tr>\n",
       "      <th>4</th>\n",
       "      <td>e</td>\n",
       "      <td>n</td>\n",
       "      <td>g</td>\n",
       "      <td>k</td>\n",
       "      <td>w</td>\n",
       "      <td>b</td>\n",
       "    </tr>\n",
       "  </tbody>\n",
       "</table>\n",
       "</div>"
      ],
      "text/plain": [
       "  Poisonous Odor Cap_Color Gill_Color Gill_Spacing Gill_Size\n",
       "0         p    p         n          k            c         n\n",
       "1         e    a         y          k            c         b\n",
       "2         e    l         w          n            c         b\n",
       "3         p    p         w          n            c         n\n",
       "4         e    n         g          k            w         b"
      ]
     },
     "execution_count": 4,
     "metadata": {},
     "output_type": "execute_result"
    }
   ],
   "source": [
    "# add meaningful column names\n",
    "mr_sub.columns = ['Poisonous', 'Odor', 'Cap_Color', 'Gill_Color', 'Gill_Spacing', 'Gill_Size']\n",
    "# sanity check\n",
    "mr_sub.head(5)"
   ]
  },
  {
   "cell_type": "markdown",
   "metadata": {},
   "source": [
    "#### 3. Convert the “e”/”p” indicators in the first column to digits; Replace the single letter abbreviations used in the data with more descriptive character strings"
   ]
  },
  {
   "cell_type": "code",
   "execution_count": 5,
   "metadata": {
    "scrolled": true
   },
   "outputs": [
    {
     "data": {
      "text/html": [
       "<div>\n",
       "<style scoped>\n",
       "    .dataframe tbody tr th:only-of-type {\n",
       "        vertical-align: middle;\n",
       "    }\n",
       "\n",
       "    .dataframe tbody tr th {\n",
       "        vertical-align: top;\n",
       "    }\n",
       "\n",
       "    .dataframe thead th {\n",
       "        text-align: right;\n",
       "    }\n",
       "</style>\n",
       "<table border=\"1\" class=\"dataframe\">\n",
       "  <thead>\n",
       "    <tr style=\"text-align: right;\">\n",
       "      <th></th>\n",
       "      <th>Poisonous</th>\n",
       "      <th>Odor</th>\n",
       "      <th>Cap_Color</th>\n",
       "      <th>Gill_Color</th>\n",
       "      <th>Gill_Spacing</th>\n",
       "      <th>Gill_Size</th>\n",
       "    </tr>\n",
       "  </thead>\n",
       "  <tbody>\n",
       "    <tr>\n",
       "      <th>0</th>\n",
       "      <td>1</td>\n",
       "      <td>pungent</td>\n",
       "      <td>brown</td>\n",
       "      <td>black</td>\n",
       "      <td>close</td>\n",
       "      <td>narrow</td>\n",
       "    </tr>\n",
       "    <tr>\n",
       "      <th>1</th>\n",
       "      <td>0</td>\n",
       "      <td>almond</td>\n",
       "      <td>yellow</td>\n",
       "      <td>black</td>\n",
       "      <td>close</td>\n",
       "      <td>broad</td>\n",
       "    </tr>\n",
       "    <tr>\n",
       "      <th>2</th>\n",
       "      <td>0</td>\n",
       "      <td>anise</td>\n",
       "      <td>white</td>\n",
       "      <td>brown</td>\n",
       "      <td>close</td>\n",
       "      <td>broad</td>\n",
       "    </tr>\n",
       "    <tr>\n",
       "      <th>3</th>\n",
       "      <td>1</td>\n",
       "      <td>pungent</td>\n",
       "      <td>white</td>\n",
       "      <td>brown</td>\n",
       "      <td>close</td>\n",
       "      <td>narrow</td>\n",
       "    </tr>\n",
       "    <tr>\n",
       "      <th>4</th>\n",
       "      <td>0</td>\n",
       "      <td>none</td>\n",
       "      <td>gray</td>\n",
       "      <td>black</td>\n",
       "      <td>crowded</td>\n",
       "      <td>broad</td>\n",
       "    </tr>\n",
       "  </tbody>\n",
       "</table>\n",
       "</div>"
      ],
      "text/plain": [
       "   Poisonous     Odor Cap_Color Gill_Color Gill_Spacing Gill_Size\n",
       "0          1  pungent     brown      black        close    narrow\n",
       "1          0   almond    yellow      black        close     broad\n",
       "2          0    anise     white      brown        close     broad\n",
       "3          1  pungent     white      brown        close    narrow\n",
       "4          0     none      gray      black      crowded     broad"
      ]
     },
     "execution_count": 5,
     "metadata": {},
     "output_type": "execute_result"
    }
   ],
   "source": [
    "# replace Edible col values\n",
    "mr_sub.Poisonous.replace('e', 0, inplace = True)\n",
    "mr_sub.Poisonous.replace('p', 1, inplace = True)\n",
    "\n",
    "# replace Cap color col values\n",
    "mr_sub.Cap_Color.replace({'n': 'brown', \n",
    "                          'b': 'buff',\n",
    "                          'c': 'cinnamon',\n",
    "                          'g': 'gray',\n",
    "                          'r': 'green',\n",
    "                          'p': 'pink',\n",
    "                          'u': 'purple',\n",
    "                          'e': 'red',\n",
    "                          'w': 'white',\n",
    "                          'y': 'yellow'}, inplace = True)\n",
    "                            \n",
    "# replace Odor col values\n",
    "mr_sub.Odor.replace({'a': 'almond', \n",
    "                     'l': 'anise',\n",
    "                     'c': 'creosote',\n",
    "                     'y': 'fishy',\n",
    "                     'f': 'foul',\n",
    "                     'm': 'musty',\n",
    "                     'n': 'none',\n",
    "                     'p': 'pungent',\n",
    "                     's': 'spicy'}, inplace = True)\n",
    "\n",
    "# replace Gill-color col values\n",
    "mr_sub.Gill_Color.replace({'k': 'black',\n",
    "                           'n': 'brown',\n",
    "                           'b': 'buff',\n",
    "                           'h': 'chocolate',\n",
    "                           'g': 'gray',\n",
    "                           'r': 'green',\n",
    "                           'o': 'orange',\n",
    "                           'p': 'pink',\n",
    "                           'u': 'purple',\n",
    "                           'e': 'red',\n",
    "                           'w': 'white',\n",
    "                           'y': 'yellow'}, inplace = True)\n",
    "\n",
    "# replace Gill-spacing col values\n",
    "mr_sub.Gill_Spacing.replace({'c': 'close',\n",
    "                             'w': 'crowded',\n",
    "                             'd': 'distant'}, inplace = True)\n",
    "\n",
    "# replace Gill-size col values\n",
    "mr_sub.Gill_Size.replace({'b': 'broad',\n",
    "                          'n': 'narrow'}, inplace = True)\n",
    "mr_sub.head(5)"
   ]
  },
  {
   "cell_type": "markdown",
   "metadata": {},
   "source": [
    "4. Use get_dummies function to create dummy variables."
   ]
  },
  {
   "cell_type": "code",
   "execution_count": 6,
   "metadata": {
    "scrolled": true
   },
   "outputs": [
    {
     "data": {
      "text/plain": [
       "Index(['Poisonous', 'Odor_almond', 'Odor_anise', 'Odor_creosote', 'Odor_fishy',\n",
       "       'Odor_foul', 'Odor_musty', 'Odor_none', 'Odor_pungent', 'Odor_spicy',\n",
       "       'Cap_Color_brown', 'Cap_Color_buff', 'Cap_Color_cinnamon',\n",
       "       'Cap_Color_gray', 'Cap_Color_green', 'Cap_Color_pink',\n",
       "       'Cap_Color_purple', 'Cap_Color_red', 'Cap_Color_white',\n",
       "       'Cap_Color_yellow', 'Gill_Color_black', 'Gill_Color_brown',\n",
       "       'Gill_Color_buff', 'Gill_Color_chocolate', 'Gill_Color_gray',\n",
       "       'Gill_Color_green', 'Gill_Color_orange', 'Gill_Color_pink',\n",
       "       'Gill_Color_purple', 'Gill_Color_red', 'Gill_Color_white',\n",
       "       'Gill_Color_yellow', 'Gill_Spacing_close', 'Gill_Spacing_crowded',\n",
       "       'Gill_Size_broad', 'Gill_Size_narrow'],\n",
       "      dtype='object')"
      ]
     },
     "execution_count": 6,
     "metadata": {},
     "output_type": "execute_result"
    }
   ],
   "source": [
    "# create dummy variables for cols except Poisonous col.\n",
    "mr_dm = pd.get_dummies(mr_sub)\n",
    "mr_dm.columns"
   ]
  },
  {
   "cell_type": "markdown",
   "metadata": {},
   "source": [
    "#### 4. EDA"
   ]
  },
  {
   "cell_type": "markdown",
   "metadata": {},
   "source": [
    "Checking for nulls:"
   ]
  },
  {
   "cell_type": "code",
   "execution_count": 7,
   "metadata": {},
   "outputs": [
    {
     "data": {
      "text/plain": [
       "Index([], dtype='object')"
      ]
     },
     "execution_count": 7,
     "metadata": {},
     "output_type": "execute_result"
    }
   ],
   "source": [
    "mr_sub.columns[mr_sub.isnull().any()]"
   ]
  },
  {
   "cell_type": "code",
   "execution_count": 8,
   "metadata": {
    "scrolled": false
   },
   "outputs": [
    {
     "name": "stdout",
     "output_type": "stream",
     "text": [
      "<class 'pandas.core.frame.DataFrame'>\n",
      "RangeIndex: 8124 entries, 0 to 8123\n",
      "Data columns (total 6 columns):\n",
      "Poisonous       8124 non-null int64\n",
      "Odor            8124 non-null object\n",
      "Cap_Color       8124 non-null object\n",
      "Gill_Color      8124 non-null object\n",
      "Gill_Spacing    8124 non-null object\n",
      "Gill_Size       8124 non-null object\n",
      "dtypes: int64(1), object(5)\n",
      "memory usage: 380.9+ KB\n"
     ]
    }
   ],
   "source": [
    "mr_sub.info()"
   ]
  },
  {
   "cell_type": "markdown",
   "metadata": {},
   "source": [
    "Checked for nulls and missing values. Based on the results above, the dataset does not contain any nulls or missing values. At this point, the number of use cases for the analysis and for all attributes is still the same at 8124."
   ]
  },
  {
   "cell_type": "code",
   "execution_count": 11,
   "metadata": {
    "scrolled": true
   },
   "outputs": [
    {
     "data": {
      "image/png": "[encoded data removed]",
      "text/plain": [
       "<Figure size 432x288 with 1 Axes>"
      ]
     },
     "metadata": {
      "needs_background": "light"
     },
     "output_type": "display_data"
    }
   ],
   "source": [
    "# matplotlib graph of Edible / Poisonous\n",
    "from collections import Counter\n",
    "import numpy as np\n",
    "import matplotlib.pyplot as plt\n",
    "\n",
    "# create a new dataset of edible col\n",
    "Poisonous=mr_sub.Poisonous\n",
    "\n",
    "# replace Edible col values\n",
    "Poisonous.replace(0, 'edible',inplace = True)\n",
    "Poisonous.replace(1, 'poisonous', inplace = True)\n",
    "\n",
    "# plot edible variables in bar chart\n",
    "df = Poisonous.value_counts()\n",
    "df.plot(kind='bar',alpha=0.75, rot=0)\n",
    "plt.show()"
   ]
  },
  {
   "cell_type": "markdown",
   "metadata": {},
   "source": [
    "Discussion of Result: Based on the counts for each group this bar chart just confirms that the edible mashroom number is slightly higher than the number of poisonouse ones in the dataset."
   ]
  },
  {
   "cell_type": "code",
   "execution_count": 12,
   "metadata": {
    "scrolled": true
   },
   "outputs": [
    {
     "data": {
      "image/png": "[encoded data removed]",
      "text/plain": [
       "<Figure size 720x360 with 1 Axes>"
      ]
     },
     "metadata": {
      "needs_background": "light"
     },
     "output_type": "display_data"
    }
   ],
   "source": [
    "# create a new dataset of odor col\n",
    "odor = mr_sub.Odor\n",
    "\n",
    "# define a new figure for plotting\n",
    "plt.figure(figsize=(10,5))\n",
    "\n",
    "# give the plot a title\n",
    "plt.title('Odor Bar Chart')\n",
    "plt.xlabel('Odor')\n",
    "plt.ylabel('Count')\n",
    "\n",
    "# plot in bar chart\n",
    "odor_c = odor.value_counts().sort_values(ascending = False)\n",
    "odor_c.plot(kind='bar',alpha=0.75, rot=0)\n",
    "plt.show()"
   ]
  },
  {
   "cell_type": "markdown",
   "metadata": {},
   "source": [
    "Discussion of Result: Based on the counts for each group this bar chart, the biggest distribuion of odor for this dataset is none then the second is the foul and the count is hughly higher than that of the rest in the dataset."
   ]
  },
  {
   "cell_type": "code",
   "execution_count": 13,
   "metadata": {},
   "outputs": [
    {
     "data": {
      "image/png": "[encoded data removed]",
      "text/plain": [
       "<Figure size 720x360 with 1 Axes>"
      ]
     },
     "metadata": {
      "needs_background": "light"
     },
     "output_type": "display_data"
    }
   ],
   "source": [
    "# create a new dataset of Cap_Color col\n",
    "cap_color = mr_sub.Cap_Color\n",
    "\n",
    "# define a new figure for plotting\n",
    "plt.figure(figsize=(10,5))\n",
    "\n",
    "# give the plot a title\n",
    "plt.title('Cap Color Bar Chart')\n",
    "plt.xlabel('Cap Color')\n",
    "plt.ylabel('Count')\n",
    "\n",
    "# plot in bar chart\n",
    "cap_color_c = cap_color.value_counts().sort_values(ascending = False)\n",
    "cap_color_c.plot(kind='bar',alpha=0.75, rot=0)\n",
    "plt.show()"
   ]
  },
  {
   "cell_type": "markdown",
   "metadata": {},
   "source": [
    "Discussion of Result: Based on the counts for each group this bar chart, the biggest distribuion of cap color for this dataset is brown then the second is the gray. The followings are red, yellow, white, buff, pink, cinnamon, purple and green."
   ]
  },
  {
   "cell_type": "code",
   "execution_count": 14,
   "metadata": {},
   "outputs": [
    {
     "data": {
      "image/png": "[encoded data removed]",
      "text/plain": [
       "<Figure size 720x360 with 1 Axes>"
      ]
     },
     "metadata": {
      "needs_background": "light"
     },
     "output_type": "display_data"
    }
   ],
   "source": [
    "# create a new dataset of Gill_Color col\n",
    "gill_color = mr_sub.Gill_Color\n",
    "\n",
    "# define a new figure for plotting\n",
    "plt.figure(figsize=(10,5))\n",
    "\n",
    "# give the plot a title\n",
    "plt.title('Gill Color Bar Chart')\n",
    "plt.xlabel('Gill Color')\n",
    "plt.ylabel('Count')\n",
    "\n",
    "# plot in bar chart\n",
    "gill_color_c = gill_color.value_counts().sort_values(ascending = False)\n",
    "gill_color_c.plot(kind='bar',alpha=0.75, rot=0)\n",
    "plt.show()"
   ]
  },
  {
   "cell_type": "markdown",
   "metadata": {},
   "source": [
    "Discussion of Result: Based on the counts for each group this bar chart, the biggest distribuion of gill color for this dataset is buff then the second is the pink. The followings are white, brown, gray, chocolate, purple, black, red, yellow, orange, and green."
   ]
  },
  {
   "cell_type": "code",
   "execution_count": 15,
   "metadata": {},
   "outputs": [
    {
     "data": {
      "image/png": "[encoded data removed]",
      "text/plain": [
       "<Figure size 432x360 with 1 Axes>"
      ]
     },
     "metadata": {
      "needs_background": "light"
     },
     "output_type": "display_data"
    }
   ],
   "source": [
    "# create a new dataset of Gill_Spacing col\n",
    "gill_spacing = mr_sub.Gill_Spacing\n",
    "\n",
    "# define a new figure for plotting\n",
    "plt.figure(figsize=(6,5))\n",
    "\n",
    "# give the plot a title\n",
    "plt.title('Gill Spacing Bar Chart')\n",
    "plt.xlabel('Gill Spacing')\n",
    "plt.ylabel('Count')\n",
    "\n",
    "# plot in bar chart\n",
    "gill_spacing_c = gill_spacing.value_counts().sort_values(ascending = False)\n",
    "gill_spacing_c.plot(kind='bar',alpha=0.75, rot=0)\n",
    "plt.show()"
   ]
  },
  {
   "cell_type": "markdown",
   "metadata": {},
   "source": [
    "Discussion of Result: Based on the counts for each group this bar chart, gill spacing column includes two types of values, which are close and crowded. And the count of close is far beyond that of crowded."
   ]
  },
  {
   "cell_type": "code",
   "execution_count": 16,
   "metadata": {},
   "outputs": [
    {
     "data": {
      "image/png": "[encoded data removed]",
      "text/plain": [
       "<Figure size 432x360 with 1 Axes>"
      ]
     },
     "metadata": {
      "needs_background": "light"
     },
     "output_type": "display_data"
    }
   ],
   "source": [
    "# create a new dataset of Gill_Size col\n",
    "gill_size = mr_sub.Gill_Size\n",
    "\n",
    "# define a new figure for plotting\n",
    "plt.figure(figsize=(6,5))\n",
    "\n",
    "# give the plot a title\n",
    "plt.title('Gill Size Bar Chart')\n",
    "plt.xlabel('Gill Size')\n",
    "plt.ylabel('Count')\n",
    "\n",
    "# plot in bar chart\n",
    "gill_size_c = gill_size.value_counts().sort_values(ascending = False)\n",
    "gill_size_c.plot(kind='bar',alpha=0.75, rot=0)\n",
    "plt.show()"
   ]
  },
  {
   "cell_type": "markdown",
   "metadata": {},
   "source": [
    "Discussion of Result: Based on the counts for each group this bar chart, gill size column includes two types of values, which are broad and narrow. And the count of broad is nearly two times as that of crowded."
   ]
  },
  {
   "cell_type": "code",
   "execution_count": 17,
   "metadata": {},
   "outputs": [
    {
     "data": {
      "text/html": [
       "<div>\n",
       "<style scoped>\n",
       "    .dataframe tbody tr th:only-of-type {\n",
       "        vertical-align: middle;\n",
       "    }\n",
       "\n",
       "    .dataframe tbody tr th {\n",
       "        vertical-align: top;\n",
       "    }\n",
       "\n",
       "    .dataframe thead th {\n",
       "        text-align: right;\n",
       "    }\n",
       "</style>\n",
       "<table border=\"1\" class=\"dataframe\">\n",
       "  <thead>\n",
       "    <tr style=\"text-align: right;\">\n",
       "      <th></th>\n",
       "      <th>Poisonous</th>\n",
       "      <th>Odor</th>\n",
       "    </tr>\n",
       "  </thead>\n",
       "  <tbody>\n",
       "    <tr>\n",
       "      <th>0</th>\n",
       "      <td>poisonous</td>\n",
       "      <td>pungent</td>\n",
       "    </tr>\n",
       "    <tr>\n",
       "      <th>1</th>\n",
       "      <td>edible</td>\n",
       "      <td>almond</td>\n",
       "    </tr>\n",
       "    <tr>\n",
       "      <th>2</th>\n",
       "      <td>edible</td>\n",
       "      <td>anise</td>\n",
       "    </tr>\n",
       "    <tr>\n",
       "      <th>3</th>\n",
       "      <td>poisonous</td>\n",
       "      <td>pungent</td>\n",
       "    </tr>\n",
       "    <tr>\n",
       "      <th>4</th>\n",
       "      <td>edible</td>\n",
       "      <td>none</td>\n",
       "    </tr>\n",
       "  </tbody>\n",
       "</table>\n",
       "</div>"
      ],
      "text/plain": [
       "   Poisonous     Odor\n",
       "0  poisonous  pungent\n",
       "1     edible   almond\n",
       "2     edible    anise\n",
       "3  poisonous  pungent\n",
       "4     edible     none"
      ]
     },
     "execution_count": 17,
     "metadata": {},
     "output_type": "execute_result"
    }
   ],
   "source": [
    "# build plot for edible/poisonous vs. odor\n",
    "mr1 = mr_sub.iloc[:, [0, 1]].copy()\n",
    "mr1.head(5)"
   ]
  },
  {
   "cell_type": "code",
   "execution_count": 18,
   "metadata": {},
   "outputs": [
    {
     "data": {
      "text/html": [
       "<div>\n",
       "<style scoped>\n",
       "    .dataframe tbody tr th:only-of-type {\n",
       "        vertical-align: middle;\n",
       "    }\n",
       "\n",
       "    .dataframe tbody tr th {\n",
       "        vertical-align: top;\n",
       "    }\n",
       "\n",
       "    .dataframe thead th {\n",
       "        text-align: right;\n",
       "    }\n",
       "</style>\n",
       "<table border=\"1\" class=\"dataframe\">\n",
       "  <thead>\n",
       "    <tr style=\"text-align: right;\">\n",
       "      <th>Poisonous</th>\n",
       "      <th>edible</th>\n",
       "      <th>poisonous</th>\n",
       "    </tr>\n",
       "    <tr>\n",
       "      <th>Odor</th>\n",
       "      <th></th>\n",
       "      <th></th>\n",
       "    </tr>\n",
       "  </thead>\n",
       "  <tbody>\n",
       "    <tr>\n",
       "      <th>almond</th>\n",
       "      <td>400.0</td>\n",
       "      <td>NaN</td>\n",
       "    </tr>\n",
       "    <tr>\n",
       "      <th>anise</th>\n",
       "      <td>400.0</td>\n",
       "      <td>NaN</td>\n",
       "    </tr>\n",
       "    <tr>\n",
       "      <th>creosote</th>\n",
       "      <td>NaN</td>\n",
       "      <td>192.0</td>\n",
       "    </tr>\n",
       "    <tr>\n",
       "      <th>fishy</th>\n",
       "      <td>NaN</td>\n",
       "      <td>576.0</td>\n",
       "    </tr>\n",
       "    <tr>\n",
       "      <th>foul</th>\n",
       "      <td>NaN</td>\n",
       "      <td>2160.0</td>\n",
       "    </tr>\n",
       "    <tr>\n",
       "      <th>musty</th>\n",
       "      <td>NaN</td>\n",
       "      <td>36.0</td>\n",
       "    </tr>\n",
       "    <tr>\n",
       "      <th>none</th>\n",
       "      <td>3408.0</td>\n",
       "      <td>120.0</td>\n",
       "    </tr>\n",
       "    <tr>\n",
       "      <th>pungent</th>\n",
       "      <td>NaN</td>\n",
       "      <td>256.0</td>\n",
       "    </tr>\n",
       "    <tr>\n",
       "      <th>spicy</th>\n",
       "      <td>NaN</td>\n",
       "      <td>576.0</td>\n",
       "    </tr>\n",
       "  </tbody>\n",
       "</table>\n",
       "</div>"
      ],
      "text/plain": [
       "Poisonous  edible  poisonous\n",
       "Odor                        \n",
       "almond      400.0        NaN\n",
       "anise       400.0        NaN\n",
       "creosote      NaN      192.0\n",
       "fishy         NaN      576.0\n",
       "foul          NaN     2160.0\n",
       "musty         NaN       36.0\n",
       "none       3408.0      120.0\n",
       "pungent       NaN      256.0\n",
       "spicy         NaN      576.0"
      ]
     },
     "execution_count": 18,
     "metadata": {},
     "output_type": "execute_result"
    }
   ],
   "source": [
    "# group by odor and edible, then count frequency of each division\n",
    "dt1 = mr1.groupby(by = ['Odor','Poisonous']).size().unstack()\n",
    "dt1"
   ]
  },
  {
   "cell_type": "code",
   "execution_count": 19,
   "metadata": {},
   "outputs": [
    {
     "data": {
      "text/plain": [
       "Text(0.5, 1.0, 'Edible/Poisonous vs. Odor Bar Chart')"
      ]
     },
     "execution_count": 19,
     "metadata": {},
     "output_type": "execute_result"
    },
    {
     "data": {
      "text/plain": [
       "<Figure size 720x360 with 0 Axes>"
      ]
     },
     "metadata": {},
     "output_type": "display_data"
    },
    {
     "data": {
      "image/png": "[encoded data removed]",
      "text/plain": [
       "<Figure size 432x288 with 1 Axes>"
      ]
     },
     "metadata": {
      "needs_background": "light"
     },
     "output_type": "display_data"
    }
   ],
   "source": [
    "# build a bar plot\n",
    "plt.figure(figsize=(10,5)) # set the figure size\n",
    "dt1.plot.bar(rot=0) # rotate x-bar label to 0 degree\n",
    "plt.title('Edible/Poisonous vs. Odor Bar Chart') # assign a title"
   ]
  },
  {
   "cell_type": "code",
   "execution_count": 20,
   "metadata": {},
   "outputs": [
    {
     "data": {
      "text/html": [
       "<div>\n",
       "<style scoped>\n",
       "    .dataframe tbody tr th:only-of-type {\n",
       "        vertical-align: middle;\n",
       "    }\n",
       "\n",
       "    .dataframe tbody tr th {\n",
       "        vertical-align: top;\n",
       "    }\n",
       "\n",
       "    .dataframe thead th {\n",
       "        text-align: right;\n",
       "    }\n",
       "</style>\n",
       "<table border=\"1\" class=\"dataframe\">\n",
       "  <thead>\n",
       "    <tr style=\"text-align: right;\">\n",
       "      <th></th>\n",
       "      <th>Poisonous</th>\n",
       "      <th>Cap_Color</th>\n",
       "    </tr>\n",
       "  </thead>\n",
       "  <tbody>\n",
       "    <tr>\n",
       "      <th>0</th>\n",
       "      <td>poisonous</td>\n",
       "      <td>brown</td>\n",
       "    </tr>\n",
       "    <tr>\n",
       "      <th>1</th>\n",
       "      <td>edible</td>\n",
       "      <td>yellow</td>\n",
       "    </tr>\n",
       "    <tr>\n",
       "      <th>2</th>\n",
       "      <td>edible</td>\n",
       "      <td>white</td>\n",
       "    </tr>\n",
       "    <tr>\n",
       "      <th>3</th>\n",
       "      <td>poisonous</td>\n",
       "      <td>white</td>\n",
       "    </tr>\n",
       "    <tr>\n",
       "      <th>4</th>\n",
       "      <td>edible</td>\n",
       "      <td>gray</td>\n",
       "    </tr>\n",
       "  </tbody>\n",
       "</table>\n",
       "</div>"
      ],
      "text/plain": [
       "   Poisonous Cap_Color\n",
       "0  poisonous     brown\n",
       "1     edible    yellow\n",
       "2     edible     white\n",
       "3  poisonous     white\n",
       "4     edible      gray"
      ]
     },
     "execution_count": 20,
     "metadata": {},
     "output_type": "execute_result"
    }
   ],
   "source": [
    "# build plot for edible/poisonous vs. Cap_Color\n",
    "mr2 = mr_sub.iloc[:, [0, 2]].copy()\n",
    "mr2.head(5)"
   ]
  },
  {
   "cell_type": "code",
   "execution_count": 22,
   "metadata": {},
   "outputs": [
    {
     "data": {
      "text/html": [
       "<div>\n",
       "<style scoped>\n",
       "    .dataframe tbody tr th:only-of-type {\n",
       "        vertical-align: middle;\n",
       "    }\n",
       "\n",
       "    .dataframe tbody tr th {\n",
       "        vertical-align: top;\n",
       "    }\n",
       "\n",
       "    .dataframe thead th {\n",
       "        text-align: right;\n",
       "    }\n",
       "</style>\n",
       "<table border=\"1\" class=\"dataframe\">\n",
       "  <thead>\n",
       "    <tr style=\"text-align: right;\">\n",
       "      <th>Poisonous</th>\n",
       "      <th>edible</th>\n",
       "      <th>poisonous</th>\n",
       "    </tr>\n",
       "    <tr>\n",
       "      <th>Cap_Color</th>\n",
       "      <th></th>\n",
       "      <th></th>\n",
       "    </tr>\n",
       "  </thead>\n",
       "  <tbody>\n",
       "    <tr>\n",
       "      <th>brown</th>\n",
       "      <td>1264.0</td>\n",
       "      <td>1020.0</td>\n",
       "    </tr>\n",
       "    <tr>\n",
       "      <th>buff</th>\n",
       "      <td>48.0</td>\n",
       "      <td>120.0</td>\n",
       "    </tr>\n",
       "    <tr>\n",
       "      <th>cinnamon</th>\n",
       "      <td>32.0</td>\n",
       "      <td>12.0</td>\n",
       "    </tr>\n",
       "    <tr>\n",
       "      <th>gray</th>\n",
       "      <td>1032.0</td>\n",
       "      <td>808.0</td>\n",
       "    </tr>\n",
       "    <tr>\n",
       "      <th>green</th>\n",
       "      <td>16.0</td>\n",
       "      <td>NaN</td>\n",
       "    </tr>\n",
       "  </tbody>\n",
       "</table>\n",
       "</div>"
      ],
      "text/plain": [
       "Poisonous  edible  poisonous\n",
       "Cap_Color                   \n",
       "brown      1264.0     1020.0\n",
       "buff         48.0      120.0\n",
       "cinnamon     32.0       12.0\n",
       "gray       1032.0      808.0\n",
       "green        16.0        NaN"
      ]
     },
     "execution_count": 22,
     "metadata": {},
     "output_type": "execute_result"
    }
   ],
   "source": [
    "# group by odor and cap color, then count frequency of each division\n",
    "dt2 = mr2.groupby(by = ['Cap_Color','Poisonous']).size().unstack()\n",
    "dt2.head(5)"
   ]
  },
  {
   "cell_type": "code",
   "execution_count": 23,
   "metadata": {},
   "outputs": [
    {
     "data": {
      "text/plain": [
       "Text(0.5, 1.0, 'Edible/Poisonous vs. Cap Color Bar Chart')"
      ]
     },
     "execution_count": 23,
     "metadata": {},
     "output_type": "execute_result"
    },
    {
     "data": {
      "text/plain": [
       "<Figure size 720x360 with 0 Axes>"
      ]
     },
     "metadata": {},
     "output_type": "display_data"
    },
    {
     "data": {
      "image/png": "[encoded data removed]",
      "text/plain": [
       "<Figure size 432x288 with 1 Axes>"
      ]
     },
     "metadata": {
      "needs_background": "light"
     },
     "output_type": "display_data"
    }
   ],
   "source": [
    "# build a bar plot\n",
    "plt.figure(figsize=(10,5)) # set the figure size\n",
    "dt2.plot.bar(rot=30) # rotate x-bar label to 0 degree\n",
    "plt.title('Edible/Poisonous vs. Cap Color Bar Chart') # assign a title"
   ]
  },
  {
   "cell_type": "code",
   "execution_count": 24,
   "metadata": {},
   "outputs": [
    {
     "data": {
      "text/html": [
       "<div>\n",
       "<style scoped>\n",
       "    .dataframe tbody tr th:only-of-type {\n",
       "        vertical-align: middle;\n",
       "    }\n",
       "\n",
       "    .dataframe tbody tr th {\n",
       "        vertical-align: top;\n",
       "    }\n",
       "\n",
       "    .dataframe thead th {\n",
       "        text-align: right;\n",
       "    }\n",
       "</style>\n",
       "<table border=\"1\" class=\"dataframe\">\n",
       "  <thead>\n",
       "    <tr style=\"text-align: right;\">\n",
       "      <th></th>\n",
       "      <th>Poisonous</th>\n",
       "      <th>Gill_Color</th>\n",
       "    </tr>\n",
       "  </thead>\n",
       "  <tbody>\n",
       "    <tr>\n",
       "      <th>0</th>\n",
       "      <td>poisonous</td>\n",
       "      <td>black</td>\n",
       "    </tr>\n",
       "    <tr>\n",
       "      <th>1</th>\n",
       "      <td>edible</td>\n",
       "      <td>black</td>\n",
       "    </tr>\n",
       "    <tr>\n",
       "      <th>2</th>\n",
       "      <td>edible</td>\n",
       "      <td>brown</td>\n",
       "    </tr>\n",
       "    <tr>\n",
       "      <th>3</th>\n",
       "      <td>poisonous</td>\n",
       "      <td>brown</td>\n",
       "    </tr>\n",
       "    <tr>\n",
       "      <th>4</th>\n",
       "      <td>edible</td>\n",
       "      <td>black</td>\n",
       "    </tr>\n",
       "  </tbody>\n",
       "</table>\n",
       "</div>"
      ],
      "text/plain": [
       "   Poisonous Gill_Color\n",
       "0  poisonous      black\n",
       "1     edible      black\n",
       "2     edible      brown\n",
       "3  poisonous      brown\n",
       "4     edible      black"
      ]
     },
     "execution_count": 24,
     "metadata": {},
     "output_type": "execute_result"
    }
   ],
   "source": [
    "# build plot for edible/poisonous vs. Gill_Color\n",
    "mr3 = mr_sub.iloc[:, [0, 3]].copy()\n",
    "mr3.head(5)"
   ]
  },
  {
   "cell_type": "code",
   "execution_count": 25,
   "metadata": {},
   "outputs": [
    {
     "data": {
      "text/html": [
       "<div>\n",
       "<style scoped>\n",
       "    .dataframe tbody tr th:only-of-type {\n",
       "        vertical-align: middle;\n",
       "    }\n",
       "\n",
       "    .dataframe tbody tr th {\n",
       "        vertical-align: top;\n",
       "    }\n",
       "\n",
       "    .dataframe thead th {\n",
       "        text-align: right;\n",
       "    }\n",
       "</style>\n",
       "<table border=\"1\" class=\"dataframe\">\n",
       "  <thead>\n",
       "    <tr style=\"text-align: right;\">\n",
       "      <th>Poisonous</th>\n",
       "      <th>edible</th>\n",
       "      <th>poisonous</th>\n",
       "    </tr>\n",
       "    <tr>\n",
       "      <th>Gill_Color</th>\n",
       "      <th></th>\n",
       "      <th></th>\n",
       "    </tr>\n",
       "  </thead>\n",
       "  <tbody>\n",
       "    <tr>\n",
       "      <th>black</th>\n",
       "      <td>344.0</td>\n",
       "      <td>64.0</td>\n",
       "    </tr>\n",
       "    <tr>\n",
       "      <th>brown</th>\n",
       "      <td>936.0</td>\n",
       "      <td>112.0</td>\n",
       "    </tr>\n",
       "    <tr>\n",
       "      <th>buff</th>\n",
       "      <td>NaN</td>\n",
       "      <td>1728.0</td>\n",
       "    </tr>\n",
       "    <tr>\n",
       "      <th>chocolate</th>\n",
       "      <td>204.0</td>\n",
       "      <td>528.0</td>\n",
       "    </tr>\n",
       "    <tr>\n",
       "      <th>gray</th>\n",
       "      <td>248.0</td>\n",
       "      <td>504.0</td>\n",
       "    </tr>\n",
       "  </tbody>\n",
       "</table>\n",
       "</div>"
      ],
      "text/plain": [
       "Poisonous   edible  poisonous\n",
       "Gill_Color                   \n",
       "black        344.0       64.0\n",
       "brown        936.0      112.0\n",
       "buff           NaN     1728.0\n",
       "chocolate    204.0      528.0\n",
       "gray         248.0      504.0"
      ]
     },
     "execution_count": 25,
     "metadata": {},
     "output_type": "execute_result"
    }
   ],
   "source": [
    "# group by odor and gill color, then count frequency of each division\n",
    "dt3 = mr3.groupby(by = ['Gill_Color','Poisonous']).size().unstack()\n",
    "dt3.head(5)"
   ]
  },
  {
   "cell_type": "code",
   "execution_count": 26,
   "metadata": {},
   "outputs": [
    {
     "data": {
      "text/plain": [
       "Text(0.5, 1.0, 'Edible/Poisonous vs. Gill Color Bar Chart')"
      ]
     },
     "execution_count": 26,
     "metadata": {},
     "output_type": "execute_result"
    },
    {
     "data": {
      "text/plain": [
       "<Figure size 720x360 with 0 Axes>"
      ]
     },
     "metadata": {},
     "output_type": "display_data"
    },
    {
     "data": {
      "image/png": "[encoded data removed]",
      "text/plain": [
       "<Figure size 432x288 with 1 Axes>"
      ]
     },
     "metadata": {
      "needs_background": "light"
     },
     "output_type": "display_data"
    }
   ],
   "source": [
    "# build a bar plot\n",
    "plt.figure(figsize=(10,5)) # set the figure size\n",
    "dt3.plot.bar(rot=30) # rotate x-bar label to 0 degree\n",
    "plt.title('Edible/Poisonous vs. Gill Color Bar Chart') # assign a title"
   ]
  },
  {
   "cell_type": "code",
   "execution_count": 27,
   "metadata": {},
   "outputs": [
    {
     "data": {
      "text/html": [
       "<div>\n",
       "<style scoped>\n",
       "    .dataframe tbody tr th:only-of-type {\n",
       "        vertical-align: middle;\n",
       "    }\n",
       "\n",
       "    .dataframe tbody tr th {\n",
       "        vertical-align: top;\n",
       "    }\n",
       "\n",
       "    .dataframe thead th {\n",
       "        text-align: right;\n",
       "    }\n",
       "</style>\n",
       "<table border=\"1\" class=\"dataframe\">\n",
       "  <thead>\n",
       "    <tr style=\"text-align: right;\">\n",
       "      <th></th>\n",
       "      <th>Poisonous</th>\n",
       "      <th>Gill_Spacing</th>\n",
       "    </tr>\n",
       "  </thead>\n",
       "  <tbody>\n",
       "    <tr>\n",
       "      <th>0</th>\n",
       "      <td>poisonous</td>\n",
       "      <td>close</td>\n",
       "    </tr>\n",
       "    <tr>\n",
       "      <th>1</th>\n",
       "      <td>edible</td>\n",
       "      <td>close</td>\n",
       "    </tr>\n",
       "    <tr>\n",
       "      <th>2</th>\n",
       "      <td>edible</td>\n",
       "      <td>close</td>\n",
       "    </tr>\n",
       "    <tr>\n",
       "      <th>3</th>\n",
       "      <td>poisonous</td>\n",
       "      <td>close</td>\n",
       "    </tr>\n",
       "    <tr>\n",
       "      <th>4</th>\n",
       "      <td>edible</td>\n",
       "      <td>crowded</td>\n",
       "    </tr>\n",
       "  </tbody>\n",
       "</table>\n",
       "</div>"
      ],
      "text/plain": [
       "   Poisonous Gill_Spacing\n",
       "0  poisonous        close\n",
       "1     edible        close\n",
       "2     edible        close\n",
       "3  poisonous        close\n",
       "4     edible      crowded"
      ]
     },
     "execution_count": 27,
     "metadata": {},
     "output_type": "execute_result"
    }
   ],
   "source": [
    "# build plot for edible/poisonous vs. Gill_Spacing\n",
    "mr4 = mr_sub.iloc[:, [0, 4]].copy()\n",
    "mr4.head(5)"
   ]
  },
  {
   "cell_type": "code",
   "execution_count": 28,
   "metadata": {},
   "outputs": [
    {
     "data": {
      "text/html": [
       "<div>\n",
       "<style scoped>\n",
       "    .dataframe tbody tr th:only-of-type {\n",
       "        vertical-align: middle;\n",
       "    }\n",
       "\n",
       "    .dataframe tbody tr th {\n",
       "        vertical-align: top;\n",
       "    }\n",
       "\n",
       "    .dataframe thead th {\n",
       "        text-align: right;\n",
       "    }\n",
       "</style>\n",
       "<table border=\"1\" class=\"dataframe\">\n",
       "  <thead>\n",
       "    <tr style=\"text-align: right;\">\n",
       "      <th>Poisonous</th>\n",
       "      <th>edible</th>\n",
       "      <th>poisonous</th>\n",
       "    </tr>\n",
       "    <tr>\n",
       "      <th>Gill_Spacing</th>\n",
       "      <th></th>\n",
       "      <th></th>\n",
       "    </tr>\n",
       "  </thead>\n",
       "  <tbody>\n",
       "    <tr>\n",
       "      <th>close</th>\n",
       "      <td>3008</td>\n",
       "      <td>3804</td>\n",
       "    </tr>\n",
       "    <tr>\n",
       "      <th>crowded</th>\n",
       "      <td>1200</td>\n",
       "      <td>112</td>\n",
       "    </tr>\n",
       "  </tbody>\n",
       "</table>\n",
       "</div>"
      ],
      "text/plain": [
       "Poisonous     edible  poisonous\n",
       "Gill_Spacing                   \n",
       "close           3008       3804\n",
       "crowded         1200        112"
      ]
     },
     "execution_count": 28,
     "metadata": {},
     "output_type": "execute_result"
    }
   ],
   "source": [
    "# group by odor and gill spacing, then count frequency of each division\n",
    "dt4 = mr4.groupby(by = ['Gill_Spacing','Poisonous']).size().unstack()\n",
    "dt4.head(5)"
   ]
  },
  {
   "cell_type": "code",
   "execution_count": 29,
   "metadata": {},
   "outputs": [
    {
     "data": {
      "text/plain": [
       "Text(0.5, 1.0, 'Edible/Poisonous vs. Gill Spacing Bar Chart')"
      ]
     },
     "execution_count": 29,
     "metadata": {},
     "output_type": "execute_result"
    },
    {
     "data": {
      "text/plain": [
       "<Figure size 720x360 with 0 Axes>"
      ]
     },
     "metadata": {},
     "output_type": "display_data"
    },
    {
     "data": {
      "image/png": "[encoded data removed]",
      "text/plain": [
       "<Figure size 432x288 with 1 Axes>"
      ]
     },
     "metadata": {
      "needs_background": "light"
     },
     "output_type": "display_data"
    }
   ],
   "source": [
    "# build a bar plot\n",
    "plt.figure(figsize=(10,5)) # set the figure size\n",
    "dt4.plot.bar(rot=0) # rotate x-bar label to 0 degree\n",
    "plt.title('Edible/Poisonous vs. Gill Spacing Bar Chart') # assign a title"
   ]
  },
  {
   "cell_type": "code",
   "execution_count": 30,
   "metadata": {},
   "outputs": [
    {
     "data": {
      "text/html": [
       "<div>\n",
       "<style scoped>\n",
       "    .dataframe tbody tr th:only-of-type {\n",
       "        vertical-align: middle;\n",
       "    }\n",
       "\n",
       "    .dataframe tbody tr th {\n",
       "        vertical-align: top;\n",
       "    }\n",
       "\n",
       "    .dataframe thead th {\n",
       "        text-align: right;\n",
       "    }\n",
       "</style>\n",
       "<table border=\"1\" class=\"dataframe\">\n",
       "  <thead>\n",
       "    <tr style=\"text-align: right;\">\n",
       "      <th></th>\n",
       "      <th>Poisonous</th>\n",
       "      <th>Gill_Size</th>\n",
       "    </tr>\n",
       "  </thead>\n",
       "  <tbody>\n",
       "    <tr>\n",
       "      <th>0</th>\n",
       "      <td>poisonous</td>\n",
       "      <td>narrow</td>\n",
       "    </tr>\n",
       "    <tr>\n",
       "      <th>1</th>\n",
       "      <td>edible</td>\n",
       "      <td>broad</td>\n",
       "    </tr>\n",
       "    <tr>\n",
       "      <th>2</th>\n",
       "      <td>edible</td>\n",
       "      <td>broad</td>\n",
       "    </tr>\n",
       "    <tr>\n",
       "      <th>3</th>\n",
       "      <td>poisonous</td>\n",
       "      <td>narrow</td>\n",
       "    </tr>\n",
       "    <tr>\n",
       "      <th>4</th>\n",
       "      <td>edible</td>\n",
       "      <td>broad</td>\n",
       "    </tr>\n",
       "  </tbody>\n",
       "</table>\n",
       "</div>"
      ],
      "text/plain": [
       "   Poisonous Gill_Size\n",
       "0  poisonous    narrow\n",
       "1     edible     broad\n",
       "2     edible     broad\n",
       "3  poisonous    narrow\n",
       "4     edible     broad"
      ]
     },
     "execution_count": 30,
     "metadata": {},
     "output_type": "execute_result"
    }
   ],
   "source": [
    "# build plot for edible/poisonous vs. Gill_Size\n",
    "mr5 = mr_sub.iloc[:, [0, 5]].copy()\n",
    "mr5.head(5)"
   ]
  },
  {
   "cell_type": "code",
   "execution_count": 31,
   "metadata": {},
   "outputs": [
    {
     "data": {
      "text/html": [
       "<div>\n",
       "<style scoped>\n",
       "    .dataframe tbody tr th:only-of-type {\n",
       "        vertical-align: middle;\n",
       "    }\n",
       "\n",
       "    .dataframe tbody tr th {\n",
       "        vertical-align: top;\n",
       "    }\n",
       "\n",
       "    .dataframe thead th {\n",
       "        text-align: right;\n",
       "    }\n",
       "</style>\n",
       "<table border=\"1\" class=\"dataframe\">\n",
       "  <thead>\n",
       "    <tr style=\"text-align: right;\">\n",
       "      <th>Poisonous</th>\n",
       "      <th>edible</th>\n",
       "      <th>poisonous</th>\n",
       "    </tr>\n",
       "    <tr>\n",
       "      <th>Gill_Size</th>\n",
       "      <th></th>\n",
       "      <th></th>\n",
       "    </tr>\n",
       "  </thead>\n",
       "  <tbody>\n",
       "    <tr>\n",
       "      <th>broad</th>\n",
       "      <td>3920</td>\n",
       "      <td>1692</td>\n",
       "    </tr>\n",
       "    <tr>\n",
       "      <th>narrow</th>\n",
       "      <td>288</td>\n",
       "      <td>2224</td>\n",
       "    </tr>\n",
       "  </tbody>\n",
       "</table>\n",
       "</div>"
      ],
      "text/plain": [
       "Poisonous  edible  poisonous\n",
       "Gill_Size                   \n",
       "broad        3920       1692\n",
       "narrow        288       2224"
      ]
     },
     "execution_count": 31,
     "metadata": {},
     "output_type": "execute_result"
    }
   ],
   "source": [
    "# group by odor and gill spacing, then count frequency of each division\n",
    "dt5 = mr5.groupby(by = ['Gill_Size','Poisonous']).size().unstack()\n",
    "dt5.head(5)"
   ]
  },
  {
   "cell_type": "code",
   "execution_count": 32,
   "metadata": {},
   "outputs": [
    {
     "data": {
      "text/plain": [
       "Text(0.5, 1.0, 'Edible/Poisonous vs. Gill Size Bar Chart')"
      ]
     },
     "execution_count": 32,
     "metadata": {},
     "output_type": "execute_result"
    },
    {
     "data": {
      "text/plain": [
       "<Figure size 720x360 with 0 Axes>"
      ]
     },
     "metadata": {},
     "output_type": "display_data"
    },
    {
     "data": {
      "image/png": "[encoded data removed]",
      "text/plain": [
       "<Figure size 432x288 with 1 Axes>"
      ]
     },
     "metadata": {
      "needs_background": "light"
     },
     "output_type": "display_data"
    }
   ],
   "source": [
    "# build a bar plot\n",
    "plt.figure(figsize=(10,5)) # set the figure size\n",
    "dt5.plot.bar(rot=0) # rotate x-bar label to 0 degree\n",
    "plt.title('Edible/Poisonous vs. Gill Size Bar Chart') # assign a title"
   ]
  },
  {
   "cell_type": "markdown",
   "metadata": {},
   "source": [
    "#### 5. Prepare Data for Logistic Regression"
   ]
  },
  {
   "cell_type": "code",
   "execution_count": 33,
   "metadata": {
    "scrolled": true
   },
   "outputs": [
    {
     "name": "stdout",
     "output_type": "stream",
     "text": [
      "Index(['Intercept', 'Odor_almond', 'Odor_anise', 'Odor_creosote', 'Odor_fishy',\n",
      "       'Odor_foul', 'Odor_musty', 'Odor_none', 'Odor_pungent', 'Odor_spicy',\n",
      "       'Cap_Color_brown', 'Cap_Color_buff', 'Cap_Color_cinnamon',\n",
      "       'Cap_Color_gray', 'Cap_Color_green', 'Cap_Color_pink',\n",
      "       'Cap_Color_purple', 'Cap_Color_red', 'Cap_Color_white',\n",
      "       'Cap_Color_yellow', 'Gill_Color_black', 'Gill_Color_brown',\n",
      "       'Gill_Color_buff', 'Gill_Color_chocolate', 'Gill_Color_gray',\n",
      "       'Gill_Color_green', 'Gill_Color_orange', 'Gill_Color_pink',\n",
      "       'Gill_Color_purple', 'Gill_Color_red', 'Gill_Color_white',\n",
      "       'Gill_Color_yellow', 'Gill_Spacing_close', 'Gill_Spacing_crowded',\n",
      "       'Gill_Size_broad', 'Gill_Size_narrow'],\n",
      "      dtype='object')\n"
     ]
    }
   ],
   "source": [
    "# create dataframes with an intercept column and all dummy variables\n",
    "y, X = dmatrices('Poisonous ~ Odor_almond + Odor_anise + Odor_creosote + Odor_fishy +\\\n",
    "       Odor_foul + Odor_musty + Odor_none + Odor_pungent + Odor_spicy +\\\n",
    "       Cap_Color_brown + Cap_Color_buff + Cap_Color_cinnamon +\\\n",
    "       Cap_Color_gray + Cap_Color_green + Cap_Color_pink +\\\n",
    "       Cap_Color_purple + Cap_Color_red + Cap_Color_white +\\\n",
    "       Cap_Color_yellow + Gill_Color_black + Gill_Color_brown +\\\n",
    "       Gill_Color_buff + Gill_Color_chocolate + Gill_Color_gray +\\\n",
    "       Gill_Color_green + Gill_Color_orange + Gill_Color_pink +\\\n",
    "       Gill_Color_purple + Gill_Color_red + Gill_Color_white +\\\n",
    "       Gill_Color_yellow + Gill_Spacing_close + Gill_Spacing_crowded +\\\n",
    "       Gill_Size_broad + Gill_Size_narrow',\n",
    "                  mr_dm, return_type=\"dataframe\")\n",
    "print(X.columns)"
   ]
  },
  {
   "cell_type": "code",
   "execution_count": 34,
   "metadata": {},
   "outputs": [],
   "source": [
    "# flatten y into a 1-D array\n",
    "y = np.ravel(y)"
   ]
  },
  {
   "cell_type": "markdown",
   "metadata": {},
   "source": [
    "#### 6. Logistic Regression"
   ]
  },
  {
   "cell_type": "code",
   "execution_count": 35,
   "metadata": {},
   "outputs": [
    {
     "name": "stderr",
     "output_type": "stream",
     "text": [
      "C:\\Users\\51759\\Anaconda3\\lib\\site-packages\\sklearn\\linear_model\\logistic.py:433: FutureWarning: Default solver will be changed to 'lbfgs' in 0.22. Specify a solver to silence this warning.\n",
      "  FutureWarning)\n"
     ]
    },
    {
     "data": {
      "text/plain": [
       "0.9901526341703595"
      ]
     },
     "execution_count": 35,
     "metadata": {},
     "output_type": "execute_result"
    }
   ],
   "source": [
    "# instantiate a logistic regression model, and fit with X and y\n",
    "model = LogisticRegression()\n",
    "model = model.fit(X, y)\n",
    "\n",
    "# check the accuracy on the training set\n",
    "model.score(X, y)"
   ]
  },
  {
   "cell_type": "markdown",
   "metadata": {},
   "source": [
    "99% accuracy seems perfect, but what's the null error rate?"
   ]
  },
  {
   "cell_type": "code",
   "execution_count": 36,
   "metadata": {},
   "outputs": [
    {
     "data": {
      "text/plain": [
       "0.48202855736090594"
      ]
     },
     "execution_count": 36,
     "metadata": {},
     "output_type": "execute_result"
    }
   ],
   "source": [
    "# what percentage is poisonous?\n",
    "y.mean()"
   ]
  },
  {
   "cell_type": "markdown",
   "metadata": {},
   "source": [
    "Only 48% of the mushroom was poisonous, which means that you could obtain 48% accuracy by always predicting \"poisonous\". So we're doing better than the null error rate, but not by much."
   ]
  },
  {
   "cell_type": "code",
   "execution_count": 37,
   "metadata": {},
   "outputs": [
    {
     "name": "stderr",
     "output_type": "stream",
     "text": [
      "C:\\Users\\51759\\Anaconda3\\lib\\site-packages\\sklearn\\linear_model\\logistic.py:433: FutureWarning: Default solver will be changed to 'lbfgs' in 0.22. Specify a solver to silence this warning.\n",
      "  FutureWarning)\n"
     ]
    },
    {
     "data": {
      "text/plain": [
       "0.5952732644017725"
      ]
     },
     "execution_count": 37,
     "metadata": {},
     "output_type": "execute_result"
    }
   ],
   "source": [
    "# create dataframes with an intercept column, and cap_color dummy variables\n",
    "y, X = dmatrices('Poisonous ~ Cap_Color_brown + Cap_Color_buff + Cap_Color_cinnamon +\\\n",
    "       Cap_Color_gray + Cap_Color_green + Cap_Color_pink +\\\n",
    "       Cap_Color_purple + Cap_Color_red + Cap_Color_white +\\\n",
    "       Cap_Color_yellow ',\n",
    "                  mr_dm, return_type=\"dataframe\")\n",
    "\n",
    "# flatten y into a 1-D array\n",
    "y = np.ravel(y)\n",
    "\n",
    "# instantiate a logistic regression model, and fit with X and y\n",
    "model = LogisticRegression()\n",
    "model = model.fit(X, y)\n",
    "\n",
    "# check the accuracy on the training set\n",
    "model.score(X, y)"
   ]
  },
  {
   "cell_type": "markdown",
   "metadata": {},
   "source": [
    "#### The accuracy of poisonouse prediction is only 59.5% when using cap_color as indicator."
   ]
  },
  {
   "cell_type": "code",
   "execution_count": 38,
   "metadata": {},
   "outputs": [
    {
     "name": "stderr",
     "output_type": "stream",
     "text": [
      "C:\\Users\\51759\\Anaconda3\\lib\\site-packages\\sklearn\\linear_model\\logistic.py:433: FutureWarning: Default solver will be changed to 'lbfgs' in 0.22. Specify a solver to silence this warning.\n",
      "  FutureWarning)\n"
     ]
    },
    {
     "data": {
      "text/plain": [
       "0.8050221565731167"
      ]
     },
     "execution_count": 38,
     "metadata": {},
     "output_type": "execute_result"
    }
   ],
   "source": [
    "# create dataframes with an intercept column, and gill_color dummy variables\n",
    "y, X = dmatrices('Poisonous ~ Gill_Color_black + Gill_Color_brown +\\\n",
    "       Gill_Color_buff + Gill_Color_chocolate + Gill_Color_gray +\\\n",
    "       Gill_Color_green + Gill_Color_orange + Gill_Color_pink +\\\n",
    "       Gill_Color_purple + Gill_Color_red + Gill_Color_white +\\\n",
    "       Gill_Color_yellow',\n",
    "                  mr_dm, return_type=\"dataframe\")\n",
    "\n",
    "# flatten y into a 1-D array\n",
    "y = np.ravel(y)\n",
    "\n",
    "# instantiate a logistic regression model, and fit with X and y\n",
    "model = LogisticRegression()\n",
    "model = model.fit(X, y)\n",
    "\n",
    "# check the accuracy on the training set\n",
    "model.score(X, y)"
   ]
  },
  {
   "cell_type": "markdown",
   "metadata": {},
   "source": [
    "#### The accuracy of poisonouse prediction is as high as 80.5% when using gill_color as indicator."
   ]
  },
  {
   "cell_type": "code",
   "execution_count": 39,
   "metadata": {},
   "outputs": [
    {
     "name": "stderr",
     "output_type": "stream",
     "text": [
      "C:\\Users\\51759\\Anaconda3\\lib\\site-packages\\sklearn\\linear_model\\logistic.py:433: FutureWarning: Default solver will be changed to 'lbfgs' in 0.22. Specify a solver to silence this warning.\n",
      "  FutureWarning)\n"
     ]
    },
    {
     "data": {
      "text/plain": [
       "0.6159527326440177"
      ]
     },
     "execution_count": 39,
     "metadata": {},
     "output_type": "execute_result"
    }
   ],
   "source": [
    "# create dataframes with an intercept column, and gill_spacing dummy variables\n",
    "y, X = dmatrices('Poisonous ~ Gill_Spacing_close + Gill_Spacing_crowded',\n",
    "                  mr_dm, return_type=\"dataframe\")\n",
    "\n",
    "# flatten y into a 1-D array\n",
    "y = np.ravel(y)\n",
    "\n",
    "# instantiate a logistic regression model, and fit with X and y\n",
    "model = LogisticRegression()\n",
    "model = model.fit(X, y)\n",
    "\n",
    "# check the accuracy on the training set\n",
    "model.score(X, y)"
   ]
  },
  {
   "cell_type": "markdown",
   "metadata": {},
   "source": [
    "#### The accuracy of poisonouse prediction is only 61.6% when using gill_color as indicator."
   ]
  },
  {
   "cell_type": "code",
   "execution_count": 40,
   "metadata": {},
   "outputs": [
    {
     "name": "stderr",
     "output_type": "stream",
     "text": [
      "C:\\Users\\51759\\Anaconda3\\lib\\site-packages\\sklearn\\linear_model\\logistic.py:433: FutureWarning: Default solver will be changed to 'lbfgs' in 0.22. Specify a solver to silence this warning.\n",
      "  FutureWarning)\n"
     ]
    },
    {
     "data": {
      "text/plain": [
       "0.7562776957163959"
      ]
     },
     "execution_count": 40,
     "metadata": {},
     "output_type": "execute_result"
    }
   ],
   "source": [
    "# create dataframes with an intercept column, and gill_size dummy variables\n",
    "y, X = dmatrices('Poisonous ~ Gill_Size_broad + Gill_Size_narrow',\n",
    "                  mr_dm, return_type=\"dataframe\")\n",
    "\n",
    "# flatten y into a 1-D array\n",
    "y = np.ravel(y)\n",
    "\n",
    "# instantiate a logistic regression model, and fit with X and y\n",
    "model = LogisticRegression()\n",
    "model = model.fit(X, y)\n",
    "\n",
    "# check the accuracy on the training set\n",
    "model.score(X, y)"
   ]
  },
  {
   "cell_type": "markdown",
   "metadata": {},
   "source": [
    "#### The accuracy of poisonouse prediction is only 75.6% when using gill_size as indicator."
   ]
  },
  {
   "cell_type": "code",
   "execution_count": 41,
   "metadata": {},
   "outputs": [
    {
     "name": "stderr",
     "output_type": "stream",
     "text": [
      "C:\\Users\\51759\\Anaconda3\\lib\\site-packages\\sklearn\\linear_model\\logistic.py:433: FutureWarning: Default solver will be changed to 'lbfgs' in 0.22. Specify a solver to silence this warning.\n",
      "  FutureWarning)\n"
     ]
    },
    {
     "data": {
      "text/plain": [
       "0.9852289512555391"
      ]
     },
     "execution_count": 41,
     "metadata": {},
     "output_type": "execute_result"
    }
   ],
   "source": [
    "# create dataframes with an intercept column, and odor dummy variables\n",
    "y, X = dmatrices('Poisonous ~ Odor_almond + Odor_anise + Odor_creosote + Odor_fishy +\\\n",
    "       Odor_foul + Odor_musty + Odor_none + Odor_pungent + Odor_spicy',\n",
    "                  mr_dm, return_type=\"dataframe\")\n",
    "\n",
    "# flatten y into a 1-D array\n",
    "y = np.ravel(y)\n",
    "\n",
    "# instantiate a logistic regression model, and fit with X and y\n",
    "model = LogisticRegression()\n",
    "model = model.fit(X, y)\n",
    "\n",
    "# check the accuracy on the training set\n",
    "model.score(X, y)"
   ]
  },
  {
   "cell_type": "markdown",
   "metadata": {},
   "source": [
    "#### The accuracy of poisonouse prediction is super high as 98.5% when using odor as indicator."
   ]
  },
  {
   "cell_type": "markdown",
   "metadata": {},
   "source": [
    "### Conclusions: \n",
    "### 1. From the indicators (including odor, cap color, gill color, gill spacing, and gill size), odor is the most efficient factor to predict poisonous mushroom or not, and it's prediction accuracy is as high as 98.5%. If you are going to choose only one factor for prediction, odor must be the one;\n",
    "### 2. The second most efficient factor is gill color, whose accuracy is 80.5%; the third one is gill size, 75.6%; the fourth one is gill spacing, 61.6%"
   ]
  },
  {
   "cell_type": "markdown",
   "metadata": {},
   "source": [
    "### Further analysis: 99% is such a high accuracy for prediction. The next step may be find less than 3 factors, combining with odor, in order to get an accuracy higher than 99.5%."
   ]
  }
 ],
 "metadata": {
  "kernelspec": {
   "display_name": "Python 3",
   "language": "python",
   "name": "python3"
  },
  "language_info": {
   "codemirror_mode": {
    "name": "ipython",
    "version": 3
   },
   "file_extension": ".py",
   "mimetype": "text/x-python",
   "name": "python",
   "nbconvert_exporter": "python",
   "pygments_lexer": "ipython3",
   "version": "3.7.1"
  }
 },
 "nbformat": 4,
 "nbformat_minor": 2
}
