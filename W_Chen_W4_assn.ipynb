{
 "cells": [
  {
   "cell_type": "code",
   "execution_count": 12,
   "metadata": {},
   "outputs": [
    {
     "data": {
      "text/plain": [
       "array([2, 4])"
      ]
     },
     "execution_count": 12,
     "metadata": {},
     "output_type": "execute_result"
    }
   ],
   "source": [
    "# task 1\n",
    "import numpy as np\n",
    "a = np.array([1,2,3,2,3,4,3,4,5,6])\n",
    "b = np.array([7,2,10,2,7,4,9,4,9,8])\n",
    "c = np.unique(np.intersect1d(a,b))\n",
    "c"
   ]
  },
  {
   "cell_type": "code",
   "execution_count": 19,
   "metadata": {},
   "outputs": [
    {
     "data": {
      "text/plain": [
       "array([[ 1,  6, 11],\n",
       "       [ 2,  7, 12],\n",
       "       [ 3,  8, 13],\n",
       "       [ 4,  9, 14],\n",
       "       [ 5, 10, 15]])"
      ]
     },
     "execution_count": 19,
     "metadata": {},
     "output_type": "execute_result"
    }
   ],
   "source": [
    "# task 2\n",
    "# apply arange(15) to generate an array from 0 to 14, then +1 for each element as to from 1 to 15\n",
    "# apply np.reshape to shape\n",
    "# apply np.T to T transpose the array.\n",
    "array = (np.arange(15) + 1).reshape((3,5)).T\n",
    "array"
   ]
  },
  {
   "cell_type": "code",
   "execution_count": 86,
   "metadata": {},
   "outputs": [
    {
     "name": "stdout",
     "output_type": "stream",
     "text": [
      "[ True  True False False  True False False]\n"
     ]
    },
    {
     "data": {
      "text/plain": [
       "array([ 7, 15,  1,  8])"
      ]
     },
     "execution_count": 86,
     "metadata": {},
     "output_type": "execute_result"
    }
   ],
   "source": [
    "# task 3\n",
    "a = np.array([12,5,7,15,3,1,8])\n",
    "b = np.array([14,6,3,11,19,12,5])\n",
    "# use np.in1d to compute a boolean array indicating whether each element of a is contained in b\n",
    "c = np.in1d(a, b)\n",
    "# use ~c to get the index in c opposed, then get d array with elements not included in b\n",
    "d = a[~c]\n",
    "d"
   ]
  },
  {
   "cell_type": "code",
   "execution_count": 100,
   "metadata": {},
   "outputs": [
    {
     "data": {
      "text/plain": [
       "{'day1': 58,\n",
       " 'day2': 40,\n",
       " 'day3': 0,\n",
       " 'day4': 53,\n",
       " 'day5': 45,\n",
       " 'day6': 47,\n",
       " 'day7': 52,\n",
       " 'day8': 0,\n",
       " 'day9': 58,\n",
       " 'day10': 53,\n",
       " 'day11': 51,\n",
       " 'day12': 49,\n",
       " 'day13': 41,\n",
       " 'day14': 59,\n",
       " 'day15': 48,\n",
       " 'day16': 54,\n",
       " 'day17': 43,\n",
       " 'day18': 56,\n",
       " 'day19': 40,\n",
       " 'day20': 46,\n",
       " 'day21': 44,\n",
       " 'day22': 42,\n",
       " 'day23': 47,\n",
       " 'day24': 56,\n",
       " 'day25': 40,\n",
       " 'day26': 59,\n",
       " 'day27': 0,\n",
       " 'day28': 57,\n",
       " 'day29': 0,\n",
       " 'day30': 57,\n",
       " 'day31': 56,\n",
       " 'day32': 56,\n",
       " 'day33': 34,\n",
       " 'day34': 87,\n",
       " 'day35': 20}"
      ]
     },
     "execution_count": 100,
     "metadata": {},
     "output_type": "execute_result"
    }
   ],
   "source": [
    "# task 4\n",
    "# I record the numbers on each day's odometer from day 1 to day 35. Cause 4 days are out of work and the last day's odometer is\n",
    "# known, which is the distance of two cities, 1548 miles.\n",
    "# At first, I randomly create 28 ints ranging from 40 to 60, representing every day's riding miles.\n",
    "odometer = []\n",
    "a = 0\n",
    "for x in np.random.randint(40,60,size = 28):\n",
    "    a += x\n",
    "    odometer.append(a)  # append 28 milage numbers into odometer\n",
    "odometer = np.asarray(odometer) # transfer odometer from list to ndarray\n",
    "odometer = np.insert(odometer, 28, 1548) # add the last day's odometer 1548 to the end of the array. Now 29 numbers.\n",
    "# create an array including 2 numbers ranging from the current second biggest value to 1548. Then union the new array with odometer array.\n",
    "# Now 31 numbers in odometer array.\n",
    "odometer = np.union1d(odometer, np.random.randint(odometer[-2], 1548, size = 2)) \n",
    "b = np.random.randint(1,31, size = 4) # create a list consisting with 4 random integers from 1 to 30\n",
    "odometer = np.insert(odometer, b, odometer[b]) # insert 4 same values of the indexs in the odometer array, that 4 random integers refer to.\n",
    "# Now we have 35 numbers in odometer array.\n",
    "odometer = np.insert(odometer, 0, 0) # In order to get the first day's riding distance in the subtranction.\n",
    "# use numpy.ediff1d to get differences between two consecutive elements in the array.\n",
    "milage = np.ediff1d(odometer)\n",
    "milage\n",
    "# use dict to show the result\n",
    "milage_on_each_day = {'day'+str(i+1):milage[i] for i in range(35)}\n",
    "milage_on_each_day"
   ]
  },
  {
   "cell_type": "code",
   "execution_count": 102,
   "metadata": {},
   "outputs": [
    {
     "name": "stderr",
     "output_type": "stream",
     "text": [
      "C:\\Users\\51759\\Anaconda3\\lib\\site-packages\\ipykernel_launcher.py:9: FutureWarning: Method .as_matrix will be removed in a future version. Use .values instead.\n",
      "  if __name__ == '__main__':\n"
     ]
    },
    {
     "data": {
      "text/plain": [
       "numpy.ndarray"
      ]
     },
     "execution_count": 102,
     "metadata": {},
     "output_type": "execute_result"
    }
   ],
   "source": [
    "# task 5\n",
    "import pandas\n",
    "import numpy as np\n",
    "\n",
    "# supress scientific notation\n",
    "np.set_printoptions(suppress = True)\n",
    "\n",
    "# read the data file from GitHub and convert to a NumPy ndarray object\n",
    "nyc_water = pandas.read_csv('https://raw.githubusercontent.com/jtopor/DAV-5400/master/Week4/Water_Consumption_In_The_New_York_City.csv').as_matrix()\n",
    "\n",
    "# verify you have an ndarray object\n",
    "type(nyc_water)"
   ]
  },
  {
   "cell_type": "code",
   "execution_count": 103,
   "metadata": {},
   "outputs": [
    {
     "data": {
      "text/plain": [
       "array([[   1979. , 7102100. ,    1512. ,     213. ],\n",
       "       [   1980. , 7071639. ,    1506. ,     213. ],\n",
       "       [   1981. , 7089241. ,    1309. ,     185. ],\n",
       "       [   1982. , 7109105. ,    1382. ,     194. ],\n",
       "       [   1983. , 7181224. ,    1424. ,     198. ],\n",
       "       [   1984. , 7234514. ,    1465. ,     203. ],\n",
       "       [   1985. , 7274054. ,    1326. ,     182. ],\n",
       "       [   1986. , 7319246. ,    1351. ,     185. ],\n",
       "       [   1987. , 7342476. ,    1447. ,     197. ],\n",
       "       [   1988. , 7353719. ,    1484. ,     202. ],\n",
       "       [   1989. , 7344175. ,    1402. ,     191. ],\n",
       "       [   1990. , 7335650. ,    1424. ,     194. ],\n",
       "       [   1991. , 7374501. ,    1469. ,     199. ],\n",
       "       [   1992. , 7428944. ,    1369. ,     184. ],\n",
       "       [   1993. , 7506166. ,    1368.5,     182. ],\n",
       "       [   1994. , 7570458. ,    1357.7,     179. ],\n",
       "       [   1995. , 7633040. ,    1325.7,     174. ],\n",
       "       [   1996. , 7697812. ,    1297.9,     169. ],\n",
       "       [   1997. , 7773443. ,    1205.5,     155. ],\n",
       "       [   1998. , 7858259. ,    1219.5,     155. ],\n",
       "       [   1999. , 7947660. ,    1237.2,     156. ],\n",
       "       [   2000. , 8008278. ,    1240.4,     155. ],\n",
       "       [   2001. , 8024963.5,    1184. ,     148. ],\n",
       "       [   2002. , 8041649. ,    1135.6,     141. ],\n",
       "       [   2003. , 8058334.5,    1093.7,     136. ],\n",
       "       [   2004. , 8075020. ,    1099.5,     136. ],\n",
       "       [   2005. , 8091705.5,    1138. ,     141. ],\n",
       "       [   2006. , 8108391. ,    1069. ,     132. ],\n",
       "       [   2007. , 8125076.5,    1114. ,     137. ],\n",
       "       [   2008. , 8141762. ,    1098. ,     135. ],\n",
       "       [   2009. , 8158447.5,    1007.5,     123. ],\n",
       "       [   2010. , 8175133. ,    1039. ,     127. ],\n",
       "       [   2011. , 8284098. ,    1021. ,     123. ],\n",
       "       [   2012. , 8361179. ,    1009.1,     121. ],\n",
       "       [   2013. , 8422460. ,    1006.1,     119. ],\n",
       "       [   2014. , 8471990. ,     996. ,     118. ],\n",
       "       [   2015. , 8516502. ,    1009. ,     118. ],\n",
       "       [   2016. , 8537673. ,    1002. ,     117. ],\n",
       "       [   2017. , 8622698. ,     990.2,     115. ]])"
      ]
     },
     "execution_count": 103,
     "metadata": {},
     "output_type": "execute_result"
    }
   ],
   "source": [
    "nyc_water"
   ]
  },
  {
   "cell_type": "code",
   "execution_count": 104,
   "metadata": {},
   "outputs": [
    {
     "data": {
      "text/plain": [
       "1512.0"
      ]
     },
     "execution_count": 104,
     "metadata": {},
     "output_type": "execute_result"
    }
   ],
   "source": [
    "# the maximum yearly NYC consumption of water in millions of gallons per day\n",
    "nyc_water.max(axis = 0)[2]"
   ]
  },
  {
   "cell_type": "code",
   "execution_count": 118,
   "metadata": {},
   "outputs": [
    {
     "name": "stdout",
     "output_type": "stream",
     "text": [
      "39 calendar years are represented.\n"
     ]
    }
   ],
   "source": [
    "# How many calendar years are represented within this data set?\n",
    "print(len(nyc_water),'calendar years are represented.')"
   ]
  },
  {
   "cell_type": "code",
   "execution_count": 136,
   "metadata": {},
   "outputs": [
    {
     "name": "stdout",
     "output_type": "stream",
     "text": [
      "The mean is 160.30769230769232.\n",
      "The standard deviation is 31.51894330370624\n"
     ]
    }
   ],
   "source": [
    "# What is the mean and the standard deviation of the per capita daily water consumption?\n",
    "mean = nyc_water.mean(axis = 0)[3]\n",
    "std = nyc_water.std(axis = 0)[3]\n",
    "print (\"The mean is {}.\".format(mean))\n",
    "print (\"The standard deviation is %s\"%std)"
   ]
  },
  {
   "cell_type": "code",
   "execution_count": 108,
   "metadata": {},
   "outputs": [
    {
     "data": {
      "text/plain": [
       "array([-30461. ,  17602. ,  19864. ,  72119. ,  53290. ,  39540. ,\n",
       "        45192. ,  23230. ,  11243. ,  -9544. ,  -8525. ,  38851. ,\n",
       "        54443. ,  77222. ,  64292. ,  62582. ,  64772. ,  75631. ,\n",
       "        84816. ,  89401. ,  60618. ,  16685.5,  16685.5,  16685.5,\n",
       "        16685.5,  16685.5,  16685.5,  16685.5,  16685.5,  16685.5,\n",
       "        16685.5, 108965. ,  77081. ,  61281. ,  49530. ,  44512. ,\n",
       "        21171. ,  85025. ])"
      ]
     },
     "execution_count": 108,
     "metadata": {},
     "output_type": "execute_result"
    }
   ],
   "source": [
    "# What is the increase or decrease in population from year to year?\n",
    "pop_diff = np.diff(nyc_water, axis = 0)[:,1]\n",
    "pop_diff"
   ]
  }
 ],
 "metadata": {
  "kernelspec": {
   "display_name": "Python 3",
   "language": "python",
   "name": "python3"
  },
  "language_info": {
   "codemirror_mode": {
    "name": "ipython",
    "version": 3
   },
   "file_extension": ".py",
   "mimetype": "text/x-python",
   "name": "python",
   "nbconvert_exporter": "python",
   "pygments_lexer": "ipython3",
   "version": "3.7.1"
  }
 },
 "nbformat": 4,
 "nbformat_minor": 2
}
