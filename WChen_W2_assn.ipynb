{
 "cells": [
  {
   "cell_type": "code",
   "execution_count": 1,
   "metadata": {
    "scrolled": true
   },
   "outputs": [
    {
     "name": "stdout",
     "output_type": "stream",
     "text": [
      "['high', 'high', '2', '4', 'med', 'low', 'unacc']\n",
      "['high', 'high', '4', 'more', 'small', 'high', 'acc']\n",
      "['high', 'high', '4', 'more', 'big', 'low', 'unacc']\n",
      "['high', 'low', '2', 'more', 'big', 'high', 'acc']\n",
      "['vhigh', 'low', '3', '2', 'med', 'med', 'unacc']\n",
      "['low', 'high', '2', '2', 'small', 'low', 'unacc']\n",
      "['med', 'med', '4', 'more', 'med', 'high', 'vgood']\n",
      "['low', 'low', '3', '2', 'big', 'med', 'unacc']\n",
      "['vhigh', 'low', '2', '2', 'small', 'low', 'unacc']\n",
      "['vhigh', 'high', '4', '4', 'med', 'low', 'unacc']\n",
      "['low', 'low', '2', '2', 'med', 'med', 'unacc']\n",
      "['vhigh', 'low', '4', 'more', 'small', 'high', 'acc']\n",
      "['high', 'low', '2', '4', 'big', 'med', 'acc']\n",
      "['low', 'vhigh', '3', 'more', 'big', 'low', 'unacc']\n",
      "['high', 'low', '5more', '2', 'big', 'med', 'unacc']\n",
      "['vhigh', 'high', '2', 'more', 'med', 'high', 'unacc']\n",
      "['med', 'med', '2', '2', 'small', 'low', 'unacc']\n",
      "['high', 'low', '5more', '4', 'med', 'high', 'acc']\n",
      "['low', 'low', '3', 'more', 'med', 'high', 'vgood']\n",
      "['low', 'low', '2', '2', 'big', 'med', 'unacc']\n",
      "['med', 'high', '4', '2', 'big', 'high', 'unacc']\n",
      "['low', 'low', '2', '2', 'small', 'high', 'unacc']\n",
      "['vhigh', 'high', '5more', '4', 'med', 'med', 'unacc']\n",
      "['med', 'vhigh', '2', '2', 'big', 'low', 'unacc']\n",
      "['low', 'vhigh', '4', '4', 'big', 'low', 'unacc']\n",
      "['vhigh', 'low', '3', 'more', 'big', 'low', 'unacc']\n",
      "['med', 'vhigh', '3', '4', 'small', 'low', 'unacc']\n",
      "['high', 'high', '3', '4', 'med', 'med', 'unacc']\n",
      "['low', 'high', '5more', '2', 'big', 'low', 'unacc']\n",
      "['med', 'high', '5more', '2', 'med', 'med', 'unacc']\n",
      "['high', 'low', '3', '4', 'med', 'high', 'acc']\n",
      "['high', 'vhigh', '5more', '4', 'med', 'med', 'unacc']\n",
      "['low', 'low', '5more', '2', 'med', 'low', 'unacc']\n",
      "['vhigh', 'vhigh', '4', '2', 'big', 'high', 'unacc']\n",
      "['high', 'low', '3', '2', 'big', 'high', 'unacc']\n"
     ]
    }
   ],
   "source": [
    "import csv\n",
    "# be sure to update the path below to reflect your own environment!!\n",
    "# also be sure that the code is properly indented after you paste it!\n",
    "\n",
    "with open('C:/Users/51759/Downloads/cars-sample35.txt') as csvfile:\n",
    "    readCSV = csv.reader(csvfile)\n",
    "    for row in readCSV:\n",
    "# print each row as read by the csv.reader function\n",
    "        print(row)"
   ]
  },
  {
   "cell_type": "code",
   "execution_count": 18,
   "metadata": {},
   "outputs": [
    {
     "name": "stdout",
     "output_type": "stream",
     "text": [
      "<_csv.reader object at 0x000001D5D8FD23F0>\n"
     ]
    }
   ],
   "source": []
  },
  {
   "cell_type": "code",
   "execution_count": 2,
   "metadata": {
    "scrolled": false
   },
   "outputs": [
    {
     "name": "stdout",
     "output_type": "stream",
     "text": [
      "high high high high vhigh low med low vhigh vhigh low vhigh high low high vhigh med high low low med low vhigh med low vhigh med high low med high high low vhigh high \n",
      "\n",
      "high high high low low high med low low high low low low vhigh low high med low low low high low high vhigh vhigh low vhigh high high high low vhigh low vhigh low \n",
      "\n",
      "2 4 4 2 3 2 4 3 2 4 2 4 2 3 5more 2 2 5more 3 2 4 2 5more 2 4 3 3 3 5more 5more 3 5more 5more 4 3 \n",
      "\n",
      "4 more more more 2 2 more 2 2 4 2 more 4 more 2 more 2 4 more 2 2 2 4 2 4 more 4 4 2 2 4 4 2 2 2 \n",
      "\n",
      "med small big big med small med big small med med small big big big med small med med big big small med big big big small med big med med med med big big \n",
      "\n",
      "low high low high med low high med low low med high med low med high low high high med high high med low low low low med low med high med low high high \n",
      "\n",
      "unacc acc unacc acc unacc unacc vgood unacc unacc unacc unacc acc acc unacc unacc unacc unacc acc vgood unacc unacc unacc unacc unacc unacc unacc unacc unacc unacc unacc acc unacc unacc unacc unacc \n",
      "\n"
     ]
    }
   ],
   "source": [
    "# task 1\n",
    "import csv\n",
    "# be sure to update the path below to reflect your own environment!!\n",
    "# also be sure that the code is properly indented after you paste it!\n",
    "with open('C:/Users/51759/Downloads/cars-sample35.txt') as csvfile:\n",
    "\n",
    "# change readCSV's type to list\n",
    "    readCSV = list(csv.reader(csvfile))\n",
    "\n",
    "# print every item under the same attribute from 35 rows.\n",
    "for j in range(7):\n",
    "    for i in range(35):\n",
    "        print(readCSV[i][j],end = ' ')\n",
    "# change to another row when printing a row of the same attributes.\n",
    "    print('\\n')"
   ]
  },
  {
   "cell_type": "code",
   "execution_count": 3,
   "metadata": {},
   "outputs": [
    {
     "name": "stdout",
     "output_type": "stream",
     "text": [
      "[6, 16, 20, 23, 26, 29]\n"
     ]
    }
   ],
   "source": [
    "# task 2\n",
    "# create an empty list price_list\n",
    "price_list = []\n",
    "\n",
    "# add items coming from the price row to the price_list\n",
    "for i in range(35):\n",
    "    price_list.append(readCSV[i][0])\n",
    "\n",
    "# if the item in price_list equals to 'med', then add the index to the med_price_index list\n",
    "med_price_index = []\n",
    "for i in range(35):\n",
    "    if price_list[i] == 'med':\n",
    "        med_price_index.append(i)\n",
    "\n",
    "# print the med_price_index list\n",
    "print(med_price_index)"
   ]
  },
  {
   "cell_type": "code",
   "execution_count": 4,
   "metadata": {},
   "outputs": [
    {
     "name": "stdout",
     "output_type": "stream",
     "text": [
      "['4', '2', '4', '2', '3', '5more']\n"
     ]
    }
   ],
   "source": [
    "# task 3\n",
    "# create a list named task3_list related to the number of passengers for the auto having a 'med' price value\n",
    "task3_list = []\n",
    "\n",
    "# refer to the med_price_index value to get and add the correnspongding passenger numbers to the list\n",
    "for i in med_price_index:\n",
    "    task3_list.append(readCSV[i][2])\n",
    "\n",
    "# print the list\n",
    "print(task3_list)"
   ]
  },
  {
   "cell_type": "code",
   "execution_count": 5,
   "metadata": {},
   "outputs": [
    {
     "name": "stdout",
     "output_type": "stream",
     "text": [
      "[0, 1, 2, 27, 31]\n"
     ]
    }
   ],
   "source": [
    "# task 4\n",
    "# create a list related to the index value for each automobile having a price value of \"high\" and a maintenance value that is not \"low\".\n",
    "task4_list = []\n",
    "\n",
    "# find the index value for 'high' price and not 'low' maintenace, then add to the list.\n",
    "for i in range(35):\n",
    "    if readCSV[i][0] == 'high' and readCSV[i][1] != 'low':\n",
    "        task4_list.append(i)\n",
    "\n",
    "# print the list\n",
    "print(task4_list)"
   ]
  },
  {
   "cell_type": "code",
   "execution_count": 6,
   "metadata": {},
   "outputs": [
    {
     "name": "stdout",
     "output_type": "stream",
     "text": [
      "[3, 12, 19, 23]\n"
     ]
    }
   ],
   "source": [
    "# task 5\n",
    "# create a list related to the index value for each auto having 2 doors and a luggage value of \"big\".\n",
    "task5_list = []\n",
    "\n",
    "# find the index for 2 doors and 'big' luggage, then add to the list.\n",
    "for i in range(35):\n",
    "    if readCSV[i][2] == '2' and readCSV[i][4] == 'big':\n",
    "        task5_list.append(i)\n",
    "        \n",
    "# print the list\n",
    "print(task5_list)"
   ]
  },
  {
   "cell_type": "code",
   "execution_count": 7,
   "metadata": {},
   "outputs": [
    {
     "name": "stdout",
     "output_type": "stream",
     "text": [
      "[2, 4, 4, 2, 3, 2, 4, 3, 2, 4, 2, 4, 2, 3, 5, 2, 2, 5, 3, 2, 4, 2, 5, 2, 4, 3, 3, 3, 5, 5, 3, 5, 5, 4, 3]\n",
      "3.3142857142857145\n"
     ]
    }
   ],
   "source": [
    "# task final\n",
    "# create a list related to the value containing the only the integer equivalents of the doors values.\n",
    "task6_list = []\n",
    "\n",
    "# find the door value and add to the list.\n",
    "for i in range(35):\n",
    "    \n",
    "# find the '5more' value and add the value int '5' to the list.\n",
    "    if readCSV[i][2] == '5more':\n",
    "        task6_list.append(int(5))\n",
    "\n",
    "# else, convert the value type from string to int and add to the list\n",
    "    else:\n",
    "        task6_list.append(int(readCSV[i][2]))\n",
    "\n",
    "# print the list.\n",
    "print(task6_list)\n",
    "\n",
    "# print the averge value of the list.\n",
    "print(sum(task6_list) / float(len(task6_list)))"
   ]
  }
 ],
 "metadata": {
  "kernelspec": {
   "display_name": "Python 3",
   "language": "python",
   "name": "python3"
  },
  "language_info": {
   "codemirror_mode": {
    "name": "ipython",
    "version": 3
   },
   "file_extension": ".py",
   "mimetype": "text/x-python",
   "name": "python",
   "nbconvert_exporter": "python",
   "pygments_lexer": "ipython3",
   "version": "3.7.1"
  }
 },
 "nbformat": 4,
 "nbformat_minor": 2
}
