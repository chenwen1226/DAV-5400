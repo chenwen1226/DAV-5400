{
 "cells": [
  {
   "cell_type": "code",
   "execution_count": 1,
   "metadata": {},
   "outputs": [
    {
     "name": "stdout",
     "output_type": "stream",
     "text": [
      "[6, 16, 20, 23, 26, 29]\n"
     ]
    }
   ],
   "source": [
    "# task 1\n",
    "import csv\n",
    "# be sure to update the path below to reflect your own environment!!\n",
    "# also be sure that the code is properly indented after you paste it!\n",
    "with open('C:/Users/51759/Downloads/cars-sample35.txt') as csvfile:\n",
    "# change readCSV's type to list\n",
    "    readCSV = list(csv.reader(csvfile))\n",
    "    \n",
    "# create a new list includeing index values of cars having a 'med' price.\n",
    "index_med_price_list = [i for i in range(len(readCSV)) if readCSV[i][0] == 'med']\n",
    "\n",
    "# print the list.\n",
    "print(index_med_price_list)"
   ]
  },
  {
   "cell_type": "code",
   "execution_count": 2,
   "metadata": {},
   "outputs": [
    {
     "name": "stdout",
     "output_type": "stream",
     "text": [
      "['more', '2', '2', '2', '4', '2']\n"
     ]
    }
   ],
   "source": [
    "# task 2\n",
    "# create a new list includeing passenger numbers of cars having a 'med' price.\n",
    "passenger_numbers_list = [readCSV[i][3] for i in range(len(readCSV)) if readCSV[i][0] == 'med']\n",
    "\n",
    "# print the list.\n",
    "print(passenger_numbers_list)"
   ]
  },
  {
   "cell_type": "code",
   "execution_count": 3,
   "metadata": {},
   "outputs": [
    {
     "name": "stdout",
     "output_type": "stream",
     "text": [
      "[0, 1, 2, 27, 31]\n"
     ]
    }
   ],
   "source": [
    "# task 3\n",
    "# create a new list includeing index values of cars having a 'high' price and not 'low' maintenance value.\n",
    "index_high_price_not_low_maintenance_list = [i for i in range(len(readCSV)) if readCSV[i][0] == 'high' and readCSV[i][1] != 'low']\n",
    "\n",
    "# print the list.\n",
    "print(index_high_price_not_low_maintenance_list)"
   ]
  },
  {
   "cell_type": "code",
   "execution_count": 4,
   "metadata": {},
   "outputs": [
    {
     "name": "stdout",
     "output_type": "stream",
     "text": [
      "[1, 2, 3, 'A', 'B', 'C', 4, 5, 'D', 'E']\n"
     ]
    }
   ],
   "source": [
    "# task 4\n",
    "# create nlist.\n",
    "nlist = [[1,2,3],['A','B','C'],[4,5],['D','E']]\n",
    "\n",
    "# create nlist_seperate referring to nlist\n",
    "nlist_seperate = [i for x in nlist for i in x]\n",
    "\n",
    "# print the new list.\n",
    "print(nlist_seperate)"
   ]
  },
  {
   "cell_type": "code",
   "execution_count": null,
   "metadata": {},
   "outputs": [],
   "source": []
  },
  {
   "cell_type": "code",
   "execution_count": null,
   "metadata": {},
   "outputs": [],
   "source": []
  },
  {
   "cell_type": "code",
   "execution_count": null,
   "metadata": {},
   "outputs": [],
   "source": []
  }
 ],
 "metadata": {
  "kernelspec": {
   "display_name": "Python 3",
   "language": "python",
   "name": "python3"
  },
  "language_info": {
   "codemirror_mode": {
    "name": "ipython",
    "version": 3
   },
   "file_extension": ".py",
   "mimetype": "text/x-python",
   "name": "python",
   "nbconvert_exporter": "python",
   "pygments_lexer": "ipython3",
   "version": "3.7.1"
  }
 },
 "nbformat": 4,
 "nbformat_minor": 2
}
