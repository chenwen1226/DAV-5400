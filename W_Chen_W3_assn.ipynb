{
 "cells": [
  {
   "cell_type": "code",
   "execution_count": 1,
   "metadata": {},
   "outputs": [
    {
     "name": "stdout",
     "output_type": "stream",
     "text": [
      "[6, 16, 20, 23, 26, 29]\n"
     ]
    }
   ],
   "source": [
    "# task 1\n",
    "import csv\n",
    "# be sure to update the path below to reflect your own environment!!\n",
    "# also be sure that the code is properly indented after you paste it!\n",
    "with open('C:/Users/51759/Downloads/cars-sample35.txt') as csvfile:\n",
    "# change readCSV's type to list\n",
    "    readCSV = list(csv.reader(csvfile))\n",
    "    \n",
    "# create a new list includeing index values of cars having a 'med' price.\n",
    "index_med_price_list = [i for i in range(len(readCSV)) if readCSV[i][0] == 'med']\n",
    "\n",
    "# print the list.\n",
    "print(index_med_price_list)"
   ]
  },
  {
   "cell_type": "code",
   "execution_count": 2,
   "metadata": {},
   "outputs": [
    {
     "name": "stdout",
     "output_type": "stream",
     "text": [
      "['more', '2', '2', '2', '4', '2']\n"
     ]
    }
   ],
   "source": [
    "# task 2\n",
    "# create a new list includeing passenger numbers of cars having a 'med' price.\n",
    "passenger_numbers_list = [readCSV[i][3] for i in range(len(readCSV)) if readCSV[i][0] == 'med']\n",
    "\n",
    "# print the list.\n",
    "print(passenger_numbers_list)"
   ]
  },
  {
   "cell_type": "code",
   "execution_count": 3,
   "metadata": {},
   "outputs": [
    {
     "name": "stdout",
     "output_type": "stream",
     "text": [
      "[0, 1, 2, 27, 31]\n"
     ]
    }
   ],
   "source": [
    "# task 3\n",
    "# create a new list includeing index values of cars having a 'high' price and not 'low' maintenance value.\n",
    "index_high_price_not_low_maintenance_list = [i for i in range(len(readCSV)) if readCSV[i][0] == 'high' and readCSV[i][1] != 'low']\n",
    "\n",
    "# print the list.\n",
    "print(index_high_price_not_low_maintenance_list)"
   ]
  },
  {
   "cell_type": "code",
   "execution_count": 4,
   "metadata": {},
   "outputs": [
    {
     "name": "stdout",
     "output_type": "stream",
     "text": [
      "[1, 2, 3, 'A', 'B', 'C', 4, 5, 'D', 'E']\n"
     ]
    }
   ],
   "source": [
    "# task 4\n",
    "# create nlist.\n",
    "nlist = [[1,2,3],['A','B','C'],[4,5],['D','E']]\n",
    "\n",
    "# create nlist_seperate referring to nlist\n",
    "nlist_seperate = [i for x in nlist for i in x]\n",
    "\n",
    "# print the new list.\n",
    "print(nlist_seperate)"
   ]
  },
  {
   "cell_type": "code",
   "execution_count": 27,
   "metadata": {},
   "outputs": [],
   "source": [
    "# task 5\n",
    "# create a dict\n",
    "\n",
    "def makedict(mylist, x):\n",
    "    newdict = {}\n",
    "# make sure the x does not exceed the length of the list parameter\n",
    "    if x <= len(mylist):\n",
    "# build key list\n",
    "        Alist=[]\n",
    "        for i in range(x):\n",
    "            Alist.append('A'+ str(i))\n",
    "# create dict from 2 parallel lists\n",
    "        for i in range(len(Alist)):\n",
    "            newdict[Alist[i]] = mylist[i]\n",
    "        return(newdict)\n",
    "    else:\n",
    "        print('input another x no more than the length of the list parameter')"
   ]
  },
  {
   "cell_type": "code",
   "execution_count": 28,
   "metadata": {},
   "outputs": [
    {
     "data": {
      "text/plain": [
       "{'A0': 'high',\n",
       " 'A1': 'high',\n",
       " 'A2': 'high',\n",
       " 'A3': 'high',\n",
       " 'A4': 'vhigh',\n",
       " 'A5': 'low',\n",
       " 'A6': 'med'}"
      ]
     },
     "execution_count": 28,
     "metadata": {},
     "output_type": "execute_result"
    }
   ],
   "source": [
    "# create price_list and luggage_list\n",
    "price_list = []\n",
    "luggage_list = []\n",
    "for i in range(len(readCSV)):\n",
    "    price_list.append(readCSV[i][0])\n",
    "    luggage_list.append(readCSV[i][4])\n",
    "\n",
    "# create the dicts for price_list above applying function 'makedict'\n",
    "makedict(price_list, 7)"
   ]
  },
  {
   "cell_type": "code",
   "execution_count": 29,
   "metadata": {},
   "outputs": [
    {
     "data": {
      "text/plain": [
       "{'A0': 'med',\n",
       " 'A1': 'small',\n",
       " 'A2': 'big',\n",
       " 'A3': 'big',\n",
       " 'A4': 'med',\n",
       " 'A5': 'small',\n",
       " 'A6': 'med'}"
      ]
     },
     "execution_count": 29,
     "metadata": {},
     "output_type": "execute_result"
    }
   ],
   "source": [
    "# create the dicts for luggage_list\n",
    "makedict(luggage_list, 7)"
   ]
  }
 ],
 "metadata": {
  "kernelspec": {
   "display_name": "Python 3",
   "language": "python",
   "name": "python3"
  },
  "language_info": {
   "codemirror_mode": {
    "name": "ipython",
    "version": 3
   },
   "file_extension": ".py",
   "mimetype": "text/x-python",
   "name": "python",
   "nbconvert_exporter": "python",
   "pygments_lexer": "ipython3",
   "version": "3.7.1"
  }
 },
 "nbformat": 4,
 "nbformat_minor": 2
}
