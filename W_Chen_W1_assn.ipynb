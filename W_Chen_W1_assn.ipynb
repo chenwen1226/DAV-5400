{
 "cells": [
  {
   "cell_type": "markdown",
   "metadata": {},
   "source": [
    "**Wen chen**\n",
    "\n",
    "[*My copy link*](https://github.com/chenwen1226/DAV-5400/blob/master/hate_crimes.csv)\n",
    "\n",
    "[*GitHub Source link*](https://github.com/fivethirtyeight/data/tree/master/hate-crimes)\n",
    "\n",
    "**Reason**\n",
    "\n",
    "What this data interests me is the relationship it biult between hate crimes and income inequality.\n",
    "\n",
    "**Target**\n",
    "\n",
    "I haven't explored the data carefully, but I want to find the internal link to see author's view is right or not."
   ]
  },
  {
   "cell_type": "markdown",
   "metadata": {},
   "source": []
  },
  {
   "cell_type": "code",
   "execution_count": null,
   "metadata": {},
   "outputs": [],
   "source": []
  }
 ],
 "metadata": {
  "kernelspec": {
   "display_name": "Python 3",
   "language": "python",
   "name": "python3"
  },
  "language_info": {
   "codemirror_mode": {
    "name": "ipython",
    "version": 3
   },
   "file_extension": ".py",
   "mimetype": "text/x-python",
   "name": "python",
   "nbconvert_exporter": "python",
   "pygments_lexer": "ipython3",
   "version": "3.7.1"
  }
 },
 "nbformat": 4,
 "nbformat_minor": 2
}
