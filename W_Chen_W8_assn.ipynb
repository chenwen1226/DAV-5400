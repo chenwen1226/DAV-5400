{
 "cells": [
  {
   "cell_type": "markdown",
   "metadata": {},
   "source": [
    "#### 1. Extract the names of each individual from the unformatted text string and store them in a vector of some sort.  When complete, your vector should contain the following entries:\n",
    "\"Moe Szyslak\"   \"Burns, C. Montgomery\" \"Rev. Timothy Lovejoy\"\"Ned Flanders\"   \"Simpson,Homer\"        \"Dr. Julius Hibbert\""
   ]
  },
  {
   "cell_type": "code",
   "execution_count": 57,
   "metadata": {},
   "outputs": [
    {
     "name": "stdout",
     "output_type": "stream",
     "text": [
      "555-1239Moe Szyslak(636) 555-0113Burns, C. Montgomery555 -6542Rev. Timothy Lovejoy555 8904Ned Flanders636-555-3226Simpson, Homer5553642Dr. Julius Hibbert\n"
     ]
    }
   ],
   "source": [
    "# load the re module and pandas\n",
    "import re\n",
    "import pandas as pd\n",
    "\n",
    "# define a text data to use\n",
    "text = \"555-1239Moe Szyslak(636) 555-0113Burns, C. Montgomery555 -6542Rev. Timothy Lovejoy555 8904Ned Flanders636-555-3226Simpson, Homer5553642Dr. Julius Hibbert\"\n",
    "print(text)"
   ]
  },
  {
   "cell_type": "code",
   "execution_count": 28,
   "metadata": {},
   "outputs": [],
   "source": [
    "# set a regex called 'name'\n",
    "name = re.compile('[A-z*,]+[\\sA-z*.]+[\\sA-z*]')"
   ]
  },
  {
   "cell_type": "code",
   "execution_count": 56,
   "metadata": {},
   "outputs": [
    {
     "name": "stdout",
     "output_type": "stream",
     "text": [
      "['Moe Szyslak', 'Burns, C. Montgomery', 'Rev. Timothy Lovejoy', 'Ned Flanders', 'Simpson, Homer', 'Dr. Julius Hibbert']\n"
     ]
    }
   ],
   "source": [
    "# use the regex name to find out the match string in the text.\n",
    "name_list = name.findall(text)\n",
    "print(name_list)"
   ]
  },
  {
   "cell_type": "markdown",
   "metadata": {},
   "source": [
    "#### 2. Using your new vector containing only the names of the six individuals, complete the following tasks:\n",
    "a. Use your regex skills to rearrange the vector so that all elements conform to the standard “firstname lastname”, preserving any  titles (e.g., “Rev.”, “Dr.”, etc) or middle/second names."
   ]
  },
  {
   "cell_type": "code",
   "execution_count": 119,
   "metadata": {},
   "outputs": [
    {
     "name": "stdout",
     "output_type": "stream",
     "text": [
      "['Moe Szyslak', 'C. Montgomery Burns', 'Rev. Timothy Lovejoy', 'Ned Flanders', 'Homer Simpson', 'Dr. Julius Hibbert']\n"
     ]
    }
   ],
   "source": [
    "# create a new list to store the answer\n",
    "name_list2 = []\n",
    "\n",
    "# use for loop to find out nonstandard \"first name last name\", and then switch the positions.\n",
    "for i in range(len(name_list)):\n",
    "    if name_list[i].find(',') != -1: # check the name is standard or not by the existence of ','\n",
    "        s = name_list[i].split(', ') # split first name and last name by ', '\n",
    "        s = [s[j] for j in [1,0]] # switch the positions\n",
    "        name_list2.append(s[0]+' '+s[1]) # combine the firstname and lastname again\n",
    "    else:\n",
    "        name_list2.append(name_list[i])\n",
    "\n",
    "# print the list\n",
    "print(name_list2)"
   ]
  },
  {
   "cell_type": "markdown",
   "metadata": {},
   "source": [
    "b. Construct a logical vector indicating whether a character has a title (i.e., Rev.and Dr.)."
   ]
  },
  {
   "cell_type": "code",
   "execution_count": 120,
   "metadata": {
    "scrolled": true
   },
   "outputs": [
    {
     "data": {
      "text/plain": [
       "0    False\n",
       "1    False\n",
       "2     True\n",
       "3    False\n",
       "4    False\n",
       "5     True\n",
       "dtype: bool"
      ]
     },
     "execution_count": 120,
     "metadata": {},
     "output_type": "execute_result"
    }
   ],
   "source": [
    "# set the pattern\n",
    "pattern_b = '[A-Z][a-z]{1,}\\.'\n",
    "# transfer the list to pd.series\n",
    "name_list2 = pd.Series(name_list2)\n",
    "# apply string match function\n",
    "name_list2.str.match(pattern_b)"
   ]
  },
  {
   "cell_type": "markdown",
   "metadata": {},
   "source": [
    "c. Construct a logical vector indicating whether a character has a middle/second name."
   ]
  },
  {
   "cell_type": "code",
   "execution_count": 122,
   "metadata": {},
   "outputs": [
    {
     "data": {
      "text/plain": [
       "0    False\n",
       "1     True\n",
       "2    False\n",
       "3    False\n",
       "4    False\n",
       "5    False\n",
       "dtype: bool"
      ]
     },
     "execution_count": 122,
     "metadata": {},
     "output_type": "execute_result"
    }
   ],
   "source": [
    "# set the pattern\n",
    "pattern_c = '[A-z]{0,1}\\\\. '\n",
    "# apply string match function\n",
    "name_list2.str.match(pattern_c)"
   ]
  },
  {
   "cell_type": "markdown",
   "metadata": {},
   "source": [
    "3. Consider the HTML string <title>+++BREAKING NEWS+++<title>. We would like to extract the first HTML tag (i.e., “<title>”). To do so we write the regular expression“<.+>”.Explain why this fails and correct the expression."
   ]
  },
  {
   "cell_type": "markdown",
   "metadata": {},
   "source": [
    "Because the regex \"<.+>\" would figure out the whole string <title>+++BREAKING NEWS+++<title>, but not the first HTML tag.\n",
    "The correct expression is \"<.+?>\" to make it ungreedy when it find the first match."
   ]
  },
  {
   "cell_type": "code",
   "execution_count": 116,
   "metadata": {},
   "outputs": [
    {
     "data": {
      "text/plain": [
       "<re.Match object; span=(0, 7), match='<title>'>"
      ]
     },
     "execution_count": 116,
     "metadata": {},
     "output_type": "execute_result"
    }
   ],
   "source": [
    "# set the pattern\n",
    "pattern_3 = \"<.+?>\"\n",
    "# set the string for testing\n",
    "test_str = \"<title>+++BREAKING NEWS+++<title>\"\n",
    "# string test\n",
    "re.match(pattern_3, test_str)"
   ]
  },
  {
   "cell_type": "markdown",
   "metadata": {},
   "source": [
    "4.Consider the string “(5-3)^2=5^2-2*5*3+3^2” conforms to the binomial theorem. We would like to extract the formula in the string. To do so we write the regular expression “[^0-9=+*()]+”. Explain why this fails and correct the expression."
   ]
  },
  {
   "cell_type": "markdown",
   "metadata": {},
   "source": [
    "The regex of \"[^0-9=+()]+\" means excluding any charactors of 0-9, =, +, and (). So the result of what the regex finds is \"-\" and \"^\".\n",
    "The correct regex is \"[\\\\^0-9=+\\-\\*()]+\"."
   ]
  },
  {
   "cell_type": "code",
   "execution_count": 117,
   "metadata": {},
   "outputs": [
    {
     "data": {
      "text/plain": [
       "<re.Match object; span=(0, 21), match='(5-3)^2=5^2-2*5*3+3^2'>"
      ]
     },
     "execution_count": 117,
     "metadata": {},
     "output_type": "execute_result"
    }
   ],
   "source": [
    "# set the pattern\n",
    "pattern_4 = \"[\\^0-9=+\\-\\*()]+\"\n",
    "# set the string for testing\n",
    "test_str = \"(5-3)^2=5^2-2*5*3+3^2\"\n",
    "# string test\n",
    "re.match(pattern_4, test_str)"
   ]
  }
 ],
 "metadata": {
  "kernelspec": {
   "display_name": "Python 3",
   "language": "python",
   "name": "python3"
  },
  "language_info": {
   "codemirror_mode": {
    "name": "ipython",
    "version": 3
   },
   "file_extension": ".py",
   "mimetype": "text/x-python",
   "name": "python",
   "nbconvert_exporter": "python",
   "pygments_lexer": "ipython3",
   "version": "3.7.1"
  }
 },
 "nbformat": 4,
 "nbformat_minor": 2
}
