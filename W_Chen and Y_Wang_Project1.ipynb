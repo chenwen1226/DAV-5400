{
 "cells": [
  {
   "cell_type": "markdown",
   "metadata": {},
   "source": [
    "#### This project of flight data analysis is finished by group, including Wen Chen and Yunxiang Wang. Research 1 and 2 are done by Wen, and research 3 is done by Yunxiang."
   ]
  },
  {
   "cell_type": "code",
   "execution_count": 207,
   "metadata": {},
   "outputs": [
    {
     "data": {
      "text/html": [
       "<div>\n",
       "<style scoped>\n",
       "    .dataframe tbody tr th:only-of-type {\n",
       "        vertical-align: middle;\n",
       "    }\n",
       "\n",
       "    .dataframe tbody tr th {\n",
       "        vertical-align: top;\n",
       "    }\n",
       "\n",
       "    .dataframe thead th {\n",
       "        text-align: right;\n",
       "    }\n",
       "</style>\n",
       "<table border=\"1\" class=\"dataframe\">\n",
       "  <thead>\n",
       "    <tr style=\"text-align: right;\">\n",
       "      <th></th>\n",
       "      <th>Year</th>\n",
       "      <th>Month</th>\n",
       "      <th>DayofMonth</th>\n",
       "      <th>DayOfWeek</th>\n",
       "      <th>DepTime</th>\n",
       "      <th>ArrTime</th>\n",
       "      <th>UniqueCarrier</th>\n",
       "      <th>FlightNum</th>\n",
       "      <th>TailNum</th>\n",
       "      <th>ActualElapsedTime</th>\n",
       "      <th>...</th>\n",
       "      <th>ArrDelay</th>\n",
       "      <th>DepDelay</th>\n",
       "      <th>Origin</th>\n",
       "      <th>Dest</th>\n",
       "      <th>Distance</th>\n",
       "      <th>TaxiIn</th>\n",
       "      <th>TaxiOut</th>\n",
       "      <th>Cancelled</th>\n",
       "      <th>CancellationCode</th>\n",
       "      <th>Diverted</th>\n",
       "    </tr>\n",
       "  </thead>\n",
       "  <tbody>\n",
       "    <tr>\n",
       "      <th>0</th>\n",
       "      <td>2011</td>\n",
       "      <td>1</td>\n",
       "      <td>1</td>\n",
       "      <td>6</td>\n",
       "      <td>1400.0</td>\n",
       "      <td>1500.0</td>\n",
       "      <td>AA</td>\n",
       "      <td>428</td>\n",
       "      <td>N576AA</td>\n",
       "      <td>60.0</td>\n",
       "      <td>...</td>\n",
       "      <td>-10.0</td>\n",
       "      <td>0.0</td>\n",
       "      <td>IAH</td>\n",
       "      <td>DFW</td>\n",
       "      <td>224</td>\n",
       "      <td>7.0</td>\n",
       "      <td>13.0</td>\n",
       "      <td>0</td>\n",
       "      <td>NaN</td>\n",
       "      <td>0</td>\n",
       "    </tr>\n",
       "    <tr>\n",
       "      <th>1</th>\n",
       "      <td>2011</td>\n",
       "      <td>1</td>\n",
       "      <td>2</td>\n",
       "      <td>7</td>\n",
       "      <td>1401.0</td>\n",
       "      <td>1501.0</td>\n",
       "      <td>AA</td>\n",
       "      <td>428</td>\n",
       "      <td>N557AA</td>\n",
       "      <td>60.0</td>\n",
       "      <td>...</td>\n",
       "      <td>-9.0</td>\n",
       "      <td>1.0</td>\n",
       "      <td>IAH</td>\n",
       "      <td>DFW</td>\n",
       "      <td>224</td>\n",
       "      <td>6.0</td>\n",
       "      <td>9.0</td>\n",
       "      <td>0</td>\n",
       "      <td>NaN</td>\n",
       "      <td>0</td>\n",
       "    </tr>\n",
       "    <tr>\n",
       "      <th>2</th>\n",
       "      <td>2011</td>\n",
       "      <td>1</td>\n",
       "      <td>3</td>\n",
       "      <td>1</td>\n",
       "      <td>1352.0</td>\n",
       "      <td>1502.0</td>\n",
       "      <td>AA</td>\n",
       "      <td>428</td>\n",
       "      <td>N541AA</td>\n",
       "      <td>70.0</td>\n",
       "      <td>...</td>\n",
       "      <td>-8.0</td>\n",
       "      <td>-8.0</td>\n",
       "      <td>IAH</td>\n",
       "      <td>DFW</td>\n",
       "      <td>224</td>\n",
       "      <td>5.0</td>\n",
       "      <td>17.0</td>\n",
       "      <td>0</td>\n",
       "      <td>NaN</td>\n",
       "      <td>0</td>\n",
       "    </tr>\n",
       "    <tr>\n",
       "      <th>3</th>\n",
       "      <td>2011</td>\n",
       "      <td>1</td>\n",
       "      <td>4</td>\n",
       "      <td>2</td>\n",
       "      <td>1403.0</td>\n",
       "      <td>1513.0</td>\n",
       "      <td>AA</td>\n",
       "      <td>428</td>\n",
       "      <td>N403AA</td>\n",
       "      <td>70.0</td>\n",
       "      <td>...</td>\n",
       "      <td>3.0</td>\n",
       "      <td>3.0</td>\n",
       "      <td>IAH</td>\n",
       "      <td>DFW</td>\n",
       "      <td>224</td>\n",
       "      <td>9.0</td>\n",
       "      <td>22.0</td>\n",
       "      <td>0</td>\n",
       "      <td>NaN</td>\n",
       "      <td>0</td>\n",
       "    </tr>\n",
       "    <tr>\n",
       "      <th>4</th>\n",
       "      <td>2011</td>\n",
       "      <td>1</td>\n",
       "      <td>5</td>\n",
       "      <td>3</td>\n",
       "      <td>1405.0</td>\n",
       "      <td>1507.0</td>\n",
       "      <td>AA</td>\n",
       "      <td>428</td>\n",
       "      <td>N492AA</td>\n",
       "      <td>62.0</td>\n",
       "      <td>...</td>\n",
       "      <td>-3.0</td>\n",
       "      <td>5.0</td>\n",
       "      <td>IAH</td>\n",
       "      <td>DFW</td>\n",
       "      <td>224</td>\n",
       "      <td>9.0</td>\n",
       "      <td>9.0</td>\n",
       "      <td>0</td>\n",
       "      <td>NaN</td>\n",
       "      <td>0</td>\n",
       "    </tr>\n",
       "  </tbody>\n",
       "</table>\n",
       "<p>5 rows × 21 columns</p>\n",
       "</div>"
      ],
      "text/plain": [
       "   Year  Month  DayofMonth  DayOfWeek  DepTime  ArrTime UniqueCarrier  \\\n",
       "0  2011      1           1          6   1400.0   1500.0            AA   \n",
       "1  2011      1           2          7   1401.0   1501.0            AA   \n",
       "2  2011      1           3          1   1352.0   1502.0            AA   \n",
       "3  2011      1           4          2   1403.0   1513.0            AA   \n",
       "4  2011      1           5          3   1405.0   1507.0            AA   \n",
       "\n",
       "   FlightNum TailNum  ActualElapsedTime   ...     ArrDelay  DepDelay  Origin  \\\n",
       "0        428  N576AA               60.0   ...        -10.0       0.0     IAH   \n",
       "1        428  N557AA               60.0   ...         -9.0       1.0     IAH   \n",
       "2        428  N541AA               70.0   ...         -8.0      -8.0     IAH   \n",
       "3        428  N403AA               70.0   ...          3.0       3.0     IAH   \n",
       "4        428  N492AA               62.0   ...         -3.0       5.0     IAH   \n",
       "\n",
       "  Dest Distance  TaxiIn  TaxiOut  Cancelled  CancellationCode Diverted  \n",
       "0  DFW      224     7.0     13.0          0               NaN        0  \n",
       "1  DFW      224     6.0      9.0          0               NaN        0  \n",
       "2  DFW      224     5.0     17.0          0               NaN        0  \n",
       "3  DFW      224     9.0     22.0          0               NaN        0  \n",
       "4  DFW      224     9.0      9.0          0               NaN        0  \n",
       "\n",
       "[5 rows x 21 columns]"
      ]
     },
     "execution_count": 207,
     "metadata": {},
     "output_type": "execute_result"
    }
   ],
   "source": [
    "import pandas as pd\n",
    "from pandas import DataFrame\n",
    "filename = \"https://raw.githubusercontent.com/jtopor/DAV-5400/master/Project1/hflights.csv\"\n",
    "flight_info = pd.read_csv(filename)\n",
    "flight_info.head()"
   ]
  },
  {
   "cell_type": "markdown",
   "metadata": {},
   "source": [
    "## 1.Houston airports depart delay analysis"
   ]
  },
  {
   "cell_type": "markdown",
   "metadata": {},
   "source": [
    "#### This depart delay analysis can be used as a report to Houston airport regulation department to overview current situation of the airport. They will know how good or how bad it currently is."
   ]
  },
  {
   "cell_type": "code",
   "execution_count": 82,
   "metadata": {},
   "outputs": [
    {
     "data": {
      "text/plain": [
       "Origin    15681\n",
       "Dest      15681\n",
       "dtype: int64"
      ]
     },
     "execution_count": 82,
     "metadata": {},
     "output_type": "execute_result"
    }
   ],
   "source": [
    "DataFrame(flight_info, columns = ['Origin','Dest'])[flight_info['Origin'] =='IAH'].count()"
   ]
  },
  {
   "cell_type": "code",
   "execution_count": 75,
   "metadata": {},
   "outputs": [
    {
     "data": {
      "text/plain": [
       "Origin    4319\n",
       "Dest      4319\n",
       "dtype: int64"
      ]
     },
     "execution_count": 75,
     "metadata": {},
     "output_type": "execute_result"
    }
   ],
   "source": [
    "DataFrame(flight_info, columns = ['Origin','Dest'])[flight_info['Origin'] =='HOU'].count()"
   ]
  },
  {
   "cell_type": "markdown",
   "metadata": {},
   "source": [
    "#### Among 20,000 data, 15,681 flights origined from IAH airport ; 4,319 flights origined from HOU airport."
   ]
  },
  {
   "cell_type": "code",
   "execution_count": 90,
   "metadata": {},
   "outputs": [
    {
     "data": {
      "text/plain": [
       "DepDelay    4965\n",
       "ArrDelay    4965\n",
       "Origin      4965\n",
       "dtype: int64"
      ]
     },
     "execution_count": 90,
     "metadata": {},
     "output_type": "execute_result"
    }
   ],
   "source": [
    "DelayFrame = DataFrame(flight_info, columns = ['DepDelay', 'ArrDelay','Origin'])\n",
    "DelayFrame[(DelayFrame['ArrDelay'] > 0) & (DelayFrame['DepDelay']> 0) & (DelayFrame['Origin'] =='IAH')].count()"
   ]
  },
  {
   "cell_type": "code",
   "execution_count": 83,
   "metadata": {},
   "outputs": [
    {
     "data": {
      "text/plain": [
       "DepDelay    1988\n",
       "ArrDelay    1988\n",
       "Origin      1988\n",
       "dtype: int64"
      ]
     },
     "execution_count": 83,
     "metadata": {},
     "output_type": "execute_result"
    }
   ],
   "source": [
    "DelayFrame[(DelayFrame['ArrDelay'] > 0) & (DelayFrame['DepDelay']> 0) & (DelayFrame['Origin'] =='HOU')].count()"
   ]
  },
  {
   "cell_type": "markdown",
   "metadata": {},
   "source": [
    "#### 4,965 out of 15,681 flights which arrived late, departed late in IAH airport. The ratio was near 1/3.\n",
    "#### 1,988 out of 4,319 flights which arrived late, departed late in HOU airport. The ratio was near 1/2.\n",
    "#### From the demostration, the depart delay problem was really severe and may be one reason of  the arrival delay."
   ]
  },
  {
   "cell_type": "code",
   "execution_count": 103,
   "metadata": {},
   "outputs": [
    {
     "data": {
      "text/plain": [
       "array([[<matplotlib.axes._subplots.AxesSubplot object at 0x000001ED89336EB8>]],\n",
       "      dtype=object)"
      ]
     },
     "execution_count": 103,
     "metadata": {},
     "output_type": "execute_result"
    },
    {
     "data": {
      "image/png": "[encoded data removed]",
      "text/plain": [
       "<Figure size 432x288 with 1 Axes>"
      ]
     },
     "metadata": {
      "needs_background": "light"
     },
     "output_type": "display_data"
    }
   ],
   "source": [
    "DelayFrame[DelayFrame['DepDelay']>0].hist(column = 'DepDelay',bins=80)"
   ]
  },
  {
   "cell_type": "markdown",
   "metadata": {},
   "source": [
    "#### From the graph above, most delay time were ranging from 0 to 180 minutes. So I will narrow down the delay time range to 180 to show histogram."
   ]
  },
  {
   "cell_type": "code",
   "execution_count": 102,
   "metadata": {},
   "outputs": [
    {
     "data": {
      "text/plain": [
       "count    10032.000000\n",
       "mean        19.408892\n",
       "std         29.539207\n",
       "min          1.000000\n",
       "25%          4.000000\n",
       "50%         10.000000\n",
       "75%         23.000000\n",
       "max        780.000000\n",
       "Name: DepDelay, dtype: float64"
      ]
     },
     "execution_count": 102,
     "metadata": {},
     "output_type": "execute_result"
    }
   ],
   "source": [
    "DelayFrame['DepDelay'][DelayFrame['DepDelay']>0].describe()"
   ]
  },
  {
   "cell_type": "code",
   "execution_count": 132,
   "metadata": {},
   "outputs": [
    {
     "data": {
      "text/plain": [
       "array([[<matplotlib.axes._subplots.AxesSubplot object at 0x000001ED89C87C50>]],\n",
       "      dtype=object)"
      ]
     },
     "execution_count": 132,
     "metadata": {},
     "output_type": "execute_result"
    },
    {
     "data": {
      "image/png": "[encoded data removed]",
      "text/plain": [
       "<Figure size 432x288 with 1 Axes>"
      ]
     },
     "metadata": {
      "needs_background": "light"
     },
     "output_type": "display_data"
    }
   ],
   "source": [
    "DelayFrame_180 = DelayFrame[(0 < DelayFrame['DepDelay'] ) & (DelayFrame['DepDelay']< 180)]\n",
    "DelayFrame_180.hist(column = 'DepDelay',bins=90)"
   ]
  },
  {
   "cell_type": "code",
   "execution_count": 108,
   "metadata": {},
   "outputs": [
    {
     "data": {
      "text/plain": [
       "count    9987.000000\n",
       "mean       18.381896\n",
       "std        24.386059\n",
       "min         1.000000\n",
       "25%         4.000000\n",
       "50%        10.000000\n",
       "75%        23.000000\n",
       "max       179.000000\n",
       "Name: DepDelay, dtype: float64"
      ]
     },
     "execution_count": 108,
     "metadata": {},
     "output_type": "execute_result"
    }
   ],
   "source": [
    "DelayFrame_180['DepDelay'].describe()"
   ]
  },
  {
   "cell_type": "markdown",
   "metadata": {},
   "source": [
    "#### 1. Among 10032 depart delay cases, 9,987 cases ranged in 180 minutes, whose percentage was 99.5%.\n",
    "#### 2. The mean is 19.4, the 25 percentile is 4 minutes, the half percentile is 10 minutes, and the 75 percentile is 19 minutes."
   ]
  },
  {
   "cell_type": "code",
   "execution_count": 112,
   "metadata": {},
   "outputs": [
    {
     "data": {
      "text/html": [
       "<div>\n",
       "<style scoped>\n",
       "    .dataframe tbody tr th:only-of-type {\n",
       "        vertical-align: middle;\n",
       "    }\n",
       "\n",
       "    .dataframe tbody tr th {\n",
       "        vertical-align: top;\n",
       "    }\n",
       "\n",
       "    .dataframe thead tr th {\n",
       "        text-align: left;\n",
       "    }\n",
       "\n",
       "    .dataframe thead tr:last-of-type th {\n",
       "        text-align: right;\n",
       "    }\n",
       "</style>\n",
       "<table border=\"1\" class=\"dataframe\">\n",
       "  <thead>\n",
       "    <tr>\n",
       "      <th></th>\n",
       "      <th colspan=\"8\" halign=\"left\">DepDelay</th>\n",
       "    </tr>\n",
       "    <tr>\n",
       "      <th></th>\n",
       "      <th>count</th>\n",
       "      <th>mean</th>\n",
       "      <th>std</th>\n",
       "      <th>min</th>\n",
       "      <th>25%</th>\n",
       "      <th>50%</th>\n",
       "      <th>75%</th>\n",
       "      <th>max</th>\n",
       "    </tr>\n",
       "    <tr>\n",
       "      <th>DayOfWeek</th>\n",
       "      <th></th>\n",
       "      <th></th>\n",
       "      <th></th>\n",
       "      <th></th>\n",
       "      <th></th>\n",
       "      <th></th>\n",
       "      <th></th>\n",
       "      <th></th>\n",
       "    </tr>\n",
       "  </thead>\n",
       "  <tbody>\n",
       "    <tr>\n",
       "      <th>1</th>\n",
       "      <td>2030.0</td>\n",
       "      <td>20.515271</td>\n",
       "      <td>29.139584</td>\n",
       "      <td>1.0</td>\n",
       "      <td>4.0</td>\n",
       "      <td>10.5</td>\n",
       "      <td>24.0</td>\n",
       "      <td>302.0</td>\n",
       "    </tr>\n",
       "    <tr>\n",
       "      <th>2</th>\n",
       "      <td>1189.0</td>\n",
       "      <td>20.625736</td>\n",
       "      <td>29.304400</td>\n",
       "      <td>1.0</td>\n",
       "      <td>4.0</td>\n",
       "      <td>11.0</td>\n",
       "      <td>26.0</td>\n",
       "      <td>252.0</td>\n",
       "    </tr>\n",
       "    <tr>\n",
       "      <th>3</th>\n",
       "      <td>996.0</td>\n",
       "      <td>15.385542</td>\n",
       "      <td>26.778638</td>\n",
       "      <td>1.0</td>\n",
       "      <td>3.0</td>\n",
       "      <td>8.0</td>\n",
       "      <td>17.0</td>\n",
       "      <td>465.0</td>\n",
       "    </tr>\n",
       "    <tr>\n",
       "      <th>4</th>\n",
       "      <td>1285.0</td>\n",
       "      <td>21.398444</td>\n",
       "      <td>38.090379</td>\n",
       "      <td>1.0</td>\n",
       "      <td>4.0</td>\n",
       "      <td>10.0</td>\n",
       "      <td>23.0</td>\n",
       "      <td>780.0</td>\n",
       "    </tr>\n",
       "    <tr>\n",
       "      <th>5</th>\n",
       "      <td>1304.0</td>\n",
       "      <td>20.423313</td>\n",
       "      <td>31.038193</td>\n",
       "      <td>1.0</td>\n",
       "      <td>3.0</td>\n",
       "      <td>9.0</td>\n",
       "      <td>23.0</td>\n",
       "      <td>351.0</td>\n",
       "    </tr>\n",
       "    <tr>\n",
       "      <th>6</th>\n",
       "      <td>1278.0</td>\n",
       "      <td>16.335681</td>\n",
       "      <td>25.453614</td>\n",
       "      <td>1.0</td>\n",
       "      <td>3.0</td>\n",
       "      <td>8.0</td>\n",
       "      <td>20.0</td>\n",
       "      <td>488.0</td>\n",
       "    </tr>\n",
       "    <tr>\n",
       "      <th>7</th>\n",
       "      <td>1950.0</td>\n",
       "      <td>19.594872</td>\n",
       "      <td>25.942055</td>\n",
       "      <td>1.0</td>\n",
       "      <td>4.0</td>\n",
       "      <td>11.0</td>\n",
       "      <td>24.0</td>\n",
       "      <td>247.0</td>\n",
       "    </tr>\n",
       "  </tbody>\n",
       "</table>\n",
       "</div>"
      ],
      "text/plain": [
       "          DepDelay                                                   \n",
       "             count       mean        std  min  25%   50%   75%    max\n",
       "DayOfWeek                                                            \n",
       "1           2030.0  20.515271  29.139584  1.0  4.0  10.5  24.0  302.0\n",
       "2           1189.0  20.625736  29.304400  1.0  4.0  11.0  26.0  252.0\n",
       "3            996.0  15.385542  26.778638  1.0  3.0   8.0  17.0  465.0\n",
       "4           1285.0  21.398444  38.090379  1.0  4.0  10.0  23.0  780.0\n",
       "5           1304.0  20.423313  31.038193  1.0  3.0   9.0  23.0  351.0\n",
       "6           1278.0  16.335681  25.453614  1.0  3.0   8.0  20.0  488.0\n",
       "7           1950.0  19.594872  25.942055  1.0  4.0  11.0  24.0  247.0"
      ]
     },
     "execution_count": 112,
     "metadata": {},
     "output_type": "execute_result"
    }
   ],
   "source": [
    "Delay_dayofweek = DataFrame(flight_info, columns = ['DayOfWeek','DepDelay'])\n",
    "Delay_dayofweek[Delay_dayofweek['DepDelay']>0].groupby(['DayOfWeek']).describe()"
   ]
  },
  {
   "cell_type": "markdown",
   "metadata": {},
   "source": [
    "#### The depart delay cases on Monday and Sunday almost doubled any other day of week. Wednesday had the lowest depart delay cases and mean time."
   ]
  },
  {
   "cell_type": "markdown",
   "metadata": {},
   "source": [
    "##  2.Arrival delay comparison among carriers"
   ]
  },
  {
   "cell_type": "markdown",
   "metadata": {},
   "source": [
    "#### Create a new Dataframe only including UniqueCarrier and ArrDelay columns."
   ]
  },
  {
   "cell_type": "code",
   "execution_count": 202,
   "metadata": {},
   "outputs": [
    {
     "data": {
      "text/html": [
       "<div>\n",
       "<style scoped>\n",
       "    .dataframe tbody tr th:only-of-type {\n",
       "        vertical-align: middle;\n",
       "    }\n",
       "\n",
       "    .dataframe tbody tr th {\n",
       "        vertical-align: top;\n",
       "    }\n",
       "\n",
       "    .dataframe thead th {\n",
       "        text-align: right;\n",
       "    }\n",
       "</style>\n",
       "<table border=\"1\" class=\"dataframe\">\n",
       "  <thead>\n",
       "    <tr style=\"text-align: right;\">\n",
       "      <th></th>\n",
       "      <th>UniqueCarrier</th>\n",
       "      <th>ArrDelay</th>\n",
       "    </tr>\n",
       "  </thead>\n",
       "  <tbody>\n",
       "    <tr>\n",
       "      <th>0</th>\n",
       "      <td>AA</td>\n",
       "      <td>-10.0</td>\n",
       "    </tr>\n",
       "    <tr>\n",
       "      <th>1</th>\n",
       "      <td>AA</td>\n",
       "      <td>-9.0</td>\n",
       "    </tr>\n",
       "    <tr>\n",
       "      <th>2</th>\n",
       "      <td>AA</td>\n",
       "      <td>-8.0</td>\n",
       "    </tr>\n",
       "    <tr>\n",
       "      <th>3</th>\n",
       "      <td>AA</td>\n",
       "      <td>3.0</td>\n",
       "    </tr>\n",
       "    <tr>\n",
       "      <th>4</th>\n",
       "      <td>AA</td>\n",
       "      <td>-3.0</td>\n",
       "    </tr>\n",
       "  </tbody>\n",
       "</table>\n",
       "</div>"
      ],
      "text/plain": [
       "  UniqueCarrier  ArrDelay\n",
       "0            AA     -10.0\n",
       "1            AA      -9.0\n",
       "2            AA      -8.0\n",
       "3            AA       3.0\n",
       "4            AA      -3.0"
      ]
     },
     "execution_count": 202,
     "metadata": {},
     "output_type": "execute_result"
    }
   ],
   "source": [
    "Carrier_Delay = DataFrame(flight_info, columns = ['UniqueCarrier','ArrDelay'])\n",
    "Carrier_Delay.head()"
   ]
  },
  {
   "cell_type": "markdown",
   "metadata": {},
   "source": [
    "#### Group every carrier's arrival delay data, calculate the mean and sort them with descending order."
   ]
  },
  {
   "cell_type": "code",
   "execution_count": 184,
   "metadata": {},
   "outputs": [
    {
     "data": {
      "text/plain": [
       "UniqueCarrier\n",
       "EV    13.927083\n",
       "F9    13.725806\n",
       "B6    11.086022\n",
       "AS     9.396552\n",
       "WN     8.644941\n",
       "MQ     7.144615\n",
       "OO     5.743106\n",
       "CO     5.366780\n",
       "DL     4.310924\n",
       "XE     3.613172\n",
       "FL     1.624060\n",
       "AA     0.950397\n",
       "UA    -2.234694\n",
       "US    -3.595960\n",
       "Name: ArrDelay, dtype: float64"
      ]
     },
     "execution_count": 184,
     "metadata": {},
     "output_type": "execute_result"
    }
   ],
   "source": [
    "Carrier_Delay.groupby(by=['UniqueCarrier']).ArrDelay.mean().sort_values(ascending = False)"
   ]
  },
  {
   "cell_type": "markdown",
   "metadata": {},
   "source": [
    "#### From the demonstration, EV, F9 and B6 carriers went with the top three arrival delay average minutes. "
   ]
  },
  {
   "cell_type": "markdown",
   "metadata": {},
   "source": [
    "#### Use a2 to represent dataframe of arrival delay data numbers for every carrier."
   ]
  },
  {
   "cell_type": "code",
   "execution_count": 192,
   "metadata": {},
   "outputs": [],
   "source": [
    "a2 = Carrier_Delay.groupby(by=['UniqueCarrier']).ArrDelay.agg('count').sort_values(ascending = False)"
   ]
  },
  {
   "cell_type": "markdown",
   "metadata": {},
   "source": [
    "#### Use a1 to represent dataframe of arrival late data numbers for every carrier."
   ]
  },
  {
   "cell_type": "code",
   "execution_count": 191,
   "metadata": {},
   "outputs": [],
   "source": [
    "a1 = Carrier_Delay[Carrier_Delay['ArrDelay']>0].groupby(by=['UniqueCarrier']).ArrDelay.agg('count').sort_values(ascending = False)"
   ]
  },
  {
   "cell_type": "markdown",
   "metadata": {},
   "source": [
    "#### Now, we can use a1 and a2 to calculate the ratio of late arrivals."
   ]
  },
  {
   "cell_type": "code",
   "execution_count": 204,
   "metadata": {},
   "outputs": [
    {
     "data": {
      "text/plain": [
       "UniqueCarrier\n",
       "F9    0.758065\n",
       "WN    0.538315\n",
       "AS    0.517241\n",
       "OO    0.515239\n",
       "CO    0.482045\n",
       "XE    0.443004\n",
       "MQ    0.403077\n",
       "DL    0.386555\n",
       "EV    0.385417\n",
       "FL    0.375940\n",
       "B6    0.354839\n",
       "AA    0.327381\n",
       "UA    0.316327\n",
       "US    0.276094\n",
       "Name: ArrDelay, dtype: float64"
      ]
     },
     "execution_count": 204,
     "metadata": {},
     "output_type": "execute_result"
    }
   ],
   "source": [
    "arr_late_ratio = (a1 / a2).sort_values(ascending = False)\n",
    "arr_late_ratio"
   ]
  },
  {
   "cell_type": "markdown",
   "metadata": {},
   "source": [
    "#### From the arrival late ratio chart above, we can see the top late ratio carrier was F9, and the best performance carrier was US."
   ]
  },
  {
   "cell_type": "markdown",
   "metadata": {},
   "source": [
    "# 3.Analyze the time cost of IAH-LAS airline\n",
    "#### Purpose of this analisis is to find the indeed time in IAH-LAS line. Get an overview of time cost in each part.It may help the passengers who want fly LAS from IAH make schedules. \n"
   ]
  },
  {
   "cell_type": "code",
   "execution_count": 210,
   "metadata": {
    "scrolled": true
   },
   "outputs": [
    {
     "data": {
      "text/html": [
       "<div>\n",
       "<style scoped>\n",
       "    .dataframe tbody tr th:only-of-type {\n",
       "        vertical-align: middle;\n",
       "    }\n",
       "\n",
       "    .dataframe tbody tr th {\n",
       "        vertical-align: top;\n",
       "    }\n",
       "\n",
       "    .dataframe thead th {\n",
       "        text-align: right;\n",
       "    }\n",
       "</style>\n",
       "<table border=\"1\" class=\"dataframe\">\n",
       "  <thead>\n",
       "    <tr style=\"text-align: right;\">\n",
       "      <th></th>\n",
       "      <th>Year</th>\n",
       "      <th>Month</th>\n",
       "      <th>DayofMonth</th>\n",
       "      <th>DayOfWeek</th>\n",
       "      <th>DepTime</th>\n",
       "      <th>ArrTime</th>\n",
       "      <th>UniqueCarrier</th>\n",
       "      <th>FlightNum</th>\n",
       "      <th>TailNum</th>\n",
       "      <th>ActualElapsedTime</th>\n",
       "      <th>...</th>\n",
       "      <th>ArrDelay</th>\n",
       "      <th>DepDelay</th>\n",
       "      <th>Origin</th>\n",
       "      <th>Dest</th>\n",
       "      <th>Distance</th>\n",
       "      <th>TaxiIn</th>\n",
       "      <th>TaxiOut</th>\n",
       "      <th>Cancelled</th>\n",
       "      <th>CancellationCode</th>\n",
       "      <th>Diverted</th>\n",
       "    </tr>\n",
       "  </thead>\n",
       "  <tbody>\n",
       "    <tr>\n",
       "      <th>19995</th>\n",
       "      <td>2011</td>\n",
       "      <td>2</td>\n",
       "      <td>25</td>\n",
       "      <td>5</td>\n",
       "      <td>1126.0</td>\n",
       "      <td>1333.0</td>\n",
       "      <td>CO</td>\n",
       "      <td>1719</td>\n",
       "      <td>N19621</td>\n",
       "      <td>187.0</td>\n",
       "      <td>...</td>\n",
       "      <td>8.0</td>\n",
       "      <td>-4.0</td>\n",
       "      <td>IAH</td>\n",
       "      <td>MTJ</td>\n",
       "      <td>926</td>\n",
       "      <td>5.0</td>\n",
       "      <td>30.0</td>\n",
       "      <td>0</td>\n",
       "      <td>NaN</td>\n",
       "      <td>0</td>\n",
       "    </tr>\n",
       "    <tr>\n",
       "      <th>19996</th>\n",
       "      <td>2011</td>\n",
       "      <td>2</td>\n",
       "      <td>25</td>\n",
       "      <td>5</td>\n",
       "      <td>941.0</td>\n",
       "      <td>1111.0</td>\n",
       "      <td>CO</td>\n",
       "      <td>1723</td>\n",
       "      <td>N37298</td>\n",
       "      <td>210.0</td>\n",
       "      <td>...</td>\n",
       "      <td>0.0</td>\n",
       "      <td>11.0</td>\n",
       "      <td>IAH</td>\n",
       "      <td>ONT</td>\n",
       "      <td>1334</td>\n",
       "      <td>5.0</td>\n",
       "      <td>12.0</td>\n",
       "      <td>0</td>\n",
       "      <td>NaN</td>\n",
       "      <td>0</td>\n",
       "    </tr>\n",
       "    <tr>\n",
       "      <th>19997</th>\n",
       "      <td>2011</td>\n",
       "      <td>2</td>\n",
       "      <td>25</td>\n",
       "      <td>5</td>\n",
       "      <td>722.0</td>\n",
       "      <td>948.0</td>\n",
       "      <td>CO</td>\n",
       "      <td>1746</td>\n",
       "      <td>N37408</td>\n",
       "      <td>146.0</td>\n",
       "      <td>...</td>\n",
       "      <td>-17.0</td>\n",
       "      <td>-3.0</td>\n",
       "      <td>IAH</td>\n",
       "      <td>ORD</td>\n",
       "      <td>925</td>\n",
       "      <td>17.0</td>\n",
       "      <td>14.0</td>\n",
       "      <td>0</td>\n",
       "      <td>NaN</td>\n",
       "      <td>0</td>\n",
       "    </tr>\n",
       "    <tr>\n",
       "      <th>19998</th>\n",
       "      <td>2011</td>\n",
       "      <td>2</td>\n",
       "      <td>25</td>\n",
       "      <td>5</td>\n",
       "      <td>1909.0</td>\n",
       "      <td>2216.0</td>\n",
       "      <td>CO</td>\n",
       "      <td>1748</td>\n",
       "      <td>N27239</td>\n",
       "      <td>127.0</td>\n",
       "      <td>...</td>\n",
       "      <td>-10.0</td>\n",
       "      <td>12.0</td>\n",
       "      <td>IAH</td>\n",
       "      <td>FLL</td>\n",
       "      <td>965</td>\n",
       "      <td>6.0</td>\n",
       "      <td>15.0</td>\n",
       "      <td>0</td>\n",
       "      <td>NaN</td>\n",
       "      <td>0</td>\n",
       "    </tr>\n",
       "    <tr>\n",
       "      <th>19999</th>\n",
       "      <td>2011</td>\n",
       "      <td>2</td>\n",
       "      <td>25</td>\n",
       "      <td>5</td>\n",
       "      <td>1255.0</td>\n",
       "      <td>1553.0</td>\n",
       "      <td>CO</td>\n",
       "      <td>1757</td>\n",
       "      <td>N14604</td>\n",
       "      <td>118.0</td>\n",
       "      <td>...</td>\n",
       "      <td>-3.0</td>\n",
       "      <td>5.0</td>\n",
       "      <td>IAH</td>\n",
       "      <td>ATL</td>\n",
       "      <td>689</td>\n",
       "      <td>13.0</td>\n",
       "      <td>22.0</td>\n",
       "      <td>0</td>\n",
       "      <td>NaN</td>\n",
       "      <td>0</td>\n",
       "    </tr>\n",
       "  </tbody>\n",
       "</table>\n",
       "<p>5 rows × 21 columns</p>\n",
       "</div>"
      ],
      "text/plain": [
       "       Year  Month  DayofMonth  DayOfWeek  DepTime  ArrTime UniqueCarrier  \\\n",
       "19995  2011      2          25          5   1126.0   1333.0            CO   \n",
       "19996  2011      2          25          5    941.0   1111.0            CO   \n",
       "19997  2011      2          25          5    722.0    948.0            CO   \n",
       "19998  2011      2          25          5   1909.0   2216.0            CO   \n",
       "19999  2011      2          25          5   1255.0   1553.0            CO   \n",
       "\n",
       "       FlightNum TailNum  ActualElapsedTime   ...     ArrDelay  DepDelay  \\\n",
       "19995       1719  N19621              187.0   ...          8.0      -4.0   \n",
       "19996       1723  N37298              210.0   ...          0.0      11.0   \n",
       "19997       1746  N37408              146.0   ...        -17.0      -3.0   \n",
       "19998       1748  N27239              127.0   ...        -10.0      12.0   \n",
       "19999       1757  N14604              118.0   ...         -3.0       5.0   \n",
       "\n",
       "       Origin Dest Distance  TaxiIn  TaxiOut  Cancelled  CancellationCode  \\\n",
       "19995     IAH  MTJ      926     5.0     30.0          0               NaN   \n",
       "19996     IAH  ONT     1334     5.0     12.0          0               NaN   \n",
       "19997     IAH  ORD      925    17.0     14.0          0               NaN   \n",
       "19998     IAH  FLL      965     6.0     15.0          0               NaN   \n",
       "19999     IAH  ATL      689    13.0     22.0          0               NaN   \n",
       "\n",
       "      Diverted  \n",
       "19995        0  \n",
       "19996        0  \n",
       "19997        0  \n",
       "19998        0  \n",
       "19999        0  \n",
       "\n",
       "[5 rows x 21 columns]"
      ]
     },
     "execution_count": 210,
     "metadata": {},
     "output_type": "execute_result"
    }
   ],
   "source": [
    "hflight_stat = pd.read_csv( \"https://raw.githubusercontent.com/jtopor/DAV-5400/master/Project1/hflights.csv\")\n",
    "hflight_stat.tail()"
   ]
  },
  {
   "cell_type": "code",
   "execution_count": 211,
   "metadata": {},
   "outputs": [
    {
     "data": {
      "text/plain": [
       "248"
      ]
     },
     "execution_count": 211,
     "metadata": {},
     "output_type": "execute_result"
    }
   ],
   "source": [
    "TimeFrame=hflight_stat[(hflight_stat['Origin']== 'IAH') & (hflight_stat['Dest'] == 'LAS')]\n",
    "TimeFrame['Year'].count()"
   ]
  },
  {
   "cell_type": "markdown",
   "metadata": {},
   "source": [
    "We have 248 records(from IAH to LAS) in 2011"
   ]
  },
  {
   "cell_type": "code",
   "execution_count": 212,
   "metadata": {},
   "outputs": [
    {
     "data": {
      "text/html": [
       "<div>\n",
       "<style scoped>\n",
       "    .dataframe tbody tr th:only-of-type {\n",
       "        vertical-align: middle;\n",
       "    }\n",
       "\n",
       "    .dataframe tbody tr th {\n",
       "        vertical-align: top;\n",
       "    }\n",
       "\n",
       "    .dataframe thead th {\n",
       "        text-align: right;\n",
       "    }\n",
       "</style>\n",
       "<table border=\"1\" class=\"dataframe\">\n",
       "  <thead>\n",
       "    <tr style=\"text-align: right;\">\n",
       "      <th></th>\n",
       "      <th>DepDelay</th>\n",
       "      <th>ArrDelay</th>\n",
       "      <th>ActualElapsedTime</th>\n",
       "      <th>AirTime</th>\n",
       "      <th>TaxiIn</th>\n",
       "      <th>TaxiOut</th>\n",
       "      <th>Distance</th>\n",
       "    </tr>\n",
       "  </thead>\n",
       "  <tbody>\n",
       "    <tr>\n",
       "      <th>374</th>\n",
       "      <td>0.0</td>\n",
       "      <td>3.0</td>\n",
       "      <td>209.0</td>\n",
       "      <td>172.0</td>\n",
       "      <td>8.0</td>\n",
       "      <td>29.0</td>\n",
       "      <td>1222</td>\n",
       "    </tr>\n",
       "    <tr>\n",
       "      <th>392</th>\n",
       "      <td>11.0</td>\n",
       "      <td>13.0</td>\n",
       "      <td>215.0</td>\n",
       "      <td>190.0</td>\n",
       "      <td>7.0</td>\n",
       "      <td>18.0</td>\n",
       "      <td>1222</td>\n",
       "    </tr>\n",
       "    <tr>\n",
       "      <th>404</th>\n",
       "      <td>28.0</td>\n",
       "      <td>20.0</td>\n",
       "      <td>200.0</td>\n",
       "      <td>182.0</td>\n",
       "      <td>7.0</td>\n",
       "      <td>11.0</td>\n",
       "      <td>1222</td>\n",
       "    </tr>\n",
       "    <tr>\n",
       "      <th>422</th>\n",
       "      <td>1.0</td>\n",
       "      <td>23.0</td>\n",
       "      <td>230.0</td>\n",
       "      <td>187.0</td>\n",
       "      <td>7.0</td>\n",
       "      <td>36.0</td>\n",
       "      <td>1222</td>\n",
       "    </tr>\n",
       "    <tr>\n",
       "      <th>438</th>\n",
       "      <td>0.0</td>\n",
       "      <td>-10.0</td>\n",
       "      <td>200.0</td>\n",
       "      <td>179.0</td>\n",
       "      <td>9.0</td>\n",
       "      <td>12.0</td>\n",
       "      <td>1222</td>\n",
       "    </tr>\n",
       "  </tbody>\n",
       "</table>\n",
       "</div>"
      ],
      "text/plain": [
       "     DepDelay  ArrDelay  ActualElapsedTime  AirTime  TaxiIn  TaxiOut  Distance\n",
       "374       0.0       3.0              209.0    172.0     8.0     29.0      1222\n",
       "392      11.0      13.0              215.0    190.0     7.0     18.0      1222\n",
       "404      28.0      20.0              200.0    182.0     7.0     11.0      1222\n",
       "422       1.0      23.0              230.0    187.0     7.0     36.0      1222\n",
       "438       0.0     -10.0              200.0    179.0     9.0     12.0      1222"
      ]
     },
     "execution_count": 212,
     "metadata": {},
     "output_type": "execute_result"
    }
   ],
   "source": [
    "time_cost = DataFrame(TimeFrame, columns = ['DepDelay', 'ArrDelay','ActualElapsedTime','AirTime','TaxiIn','TaxiOut','Distance'])\n",
    "time_cost.head()"
   ]
  },
  {
   "cell_type": "markdown",
   "metadata": {},
   "source": [
    "#### Actually, 'ActualElapsedTime' is the sum of others(not including 'Distance')"
   ]
  },
  {
   "cell_type": "code",
   "execution_count": 213,
   "metadata": {},
   "outputs": [
    {
     "name": "stdout",
     "output_type": "stream",
     "text": [
      "count    131.000000\n",
      "mean      25.931298\n",
      "std       35.513419\n",
      "min        2.000000\n",
      "25%        7.000000\n",
      "50%       15.000000\n",
      "75%       28.000000\n",
      "max      219.000000\n",
      "dtype: float64\n"
     ]
    },
    {
     "data": {
      "text/plain": [
       "<matplotlib.axes._subplots.AxesSubplot at 0x1ed8f6e4c50>"
      ]
     },
     "execution_count": 213,
     "metadata": {},
     "output_type": "execute_result"
    },
    {
     "data": {
      "image/png": "[encoded data removed]",
      "text/plain": [
       "<Figure size 432x288 with 1 Axes>"
      ]
     },
     "metadata": {
      "needs_background": "light"
     },
     "output_type": "display_data"
    }
   ],
   "source": [
    "Delay_anl=time_cost['ArrDelay']+ time_cost['DepDelay']\n",
    "print(Delay_anl[Delay_anl>0].describe())\n",
    "Delay_anl[Delay_anl>0].plot(kind = 'hist')"
   ]
  },
  {
   "cell_type": "markdown",
   "metadata": {},
   "source": [
    "#### We have 131 records that the total delay-time is over 0. The average of delay-time is 25.9 minutes. The max is 219 minutes. The plot shows the delay-time convergneces to 0~50 minutes."
   ]
  },
  {
   "cell_type": "code",
   "execution_count": 215,
   "metadata": {},
   "outputs": [
    {
     "name": "stdout",
     "output_type": "stream",
     "text": [
      "count    248.000000\n",
      "mean      26.616935\n",
      "std        6.980774\n",
      "min       13.000000\n",
      "25%       21.750000\n",
      "50%       25.000000\n",
      "75%       30.000000\n",
      "max       57.000000\n",
      "dtype: float64\n"
     ]
    },
    {
     "data": {
      "text/plain": [
       "<matplotlib.axes._subplots.AxesSubplot at 0x1ed8f724e48>"
      ]
     },
     "execution_count": 215,
     "metadata": {},
     "output_type": "execute_result"
    },
    {
     "data": {
      "image/png": "[encoded data removed]",
      "text/plain": [
       "<Figure size 432x288 with 1 Axes>"
      ]
     },
     "metadata": {
      "needs_background": "light"
     },
     "output_type": "display_data"
    }
   ],
   "source": [
    "Taxi_anl= time_cost['TaxiIn']+time_cost['TaxiOut']\n",
    "print(Taxi_anl.describe())\n",
    "Taxi_anl.plot(kind = 'box')"
   ]
  },
  {
   "cell_type": "markdown",
   "metadata": {},
   "source": [
    "#### We sum up \"TaxiIn\" and \"TaxiOut\" and get 248 records. The average of delay-time is 26.6 minutes. The max is 57 minutes. The plot shows the delay-time convergneces to 20~30 minutes"
   ]
  },
  {
   "cell_type": "code",
   "execution_count": 216,
   "metadata": {},
   "outputs": [
    {
     "name": "stdout",
     "output_type": "stream",
     "text": [
      "count    248.000000\n",
      "mean     202.383065\n",
      "std       11.180993\n",
      "min      174.000000\n",
      "25%      195.000000\n",
      "50%      201.500000\n",
      "75%      208.250000\n",
      "max      237.000000\n",
      "Name: ActualElapsedTime, dtype: float64\n"
     ]
    },
    {
     "data": {
      "text/plain": [
       "<matplotlib.axes._subplots.AxesSubplot at 0x1ed8f742e10>"
      ]
     },
     "execution_count": 216,
     "metadata": {},
     "output_type": "execute_result"
    },
    {
     "data": {
      "image/png": "[encoded data removed]",
      "text/plain": [
       "<Figure size 432x288 with 1 Axes>"
      ]
     },
     "metadata": {
      "needs_background": "light"
     },
     "output_type": "display_data"
    }
   ],
   "source": [
    "print(time_cost['ActualElapsedTime'].describe())\n",
    "time_cost['ActualElapsedTime'].plot(kind = 'box')"
   ]
  },
  {
   "cell_type": "code",
   "execution_count": 217,
   "metadata": {},
   "outputs": [
    {
     "name": "stdout",
     "output_type": "stream",
     "text": [
      "count    248.000000\n",
      "mean       0.869216\n",
      "std        0.029745\n",
      "min        0.753247\n",
      "25%        0.853178\n",
      "50%        0.873737\n",
      "75%        0.890052\n",
      "max        0.927374\n",
      "dtype: float64\n"
     ]
    },
    {
     "data": {
      "text/plain": [
       "26.616935483870947"
      ]
     },
     "execution_count": 217,
     "metadata": {},
     "output_type": "execute_result"
    }
   ],
   "source": [
    "print((time_cost['AirTime']/time_cost['ActualElapsedTime']).describe())\n",
    "time_cost['ActualElapsedTime'].describe()['mean']-time_cost['AirTime'].describe()['mean']"
   ]
  },
  {
   "cell_type": "markdown",
   "metadata": {},
   "source": [
    "#### In conclusion, we need total 202.38 minutes in IAH-LAS line, and airtime occupies 87%, we need 26.61 minutes for declay-time and taxi in or out.By the way the airline can't take you over 237 minutes."
   ]
  }
 ],
 "metadata": {
  "kernelspec": {
   "display_name": "Python 3",
   "language": "python",
   "name": "python3"
  },
  "language_info": {
   "codemirror_mode": {
    "name": "ipython",
    "version": 3
   },
   "file_extension": ".py",
   "mimetype": "text/x-python",
   "name": "python",
   "nbconvert_exporter": "python",
   "pygments_lexer": "ipython3",
   "version": "3.7.1"
  }
 },
 "nbformat": 4,
 "nbformat_minor": 2
}
